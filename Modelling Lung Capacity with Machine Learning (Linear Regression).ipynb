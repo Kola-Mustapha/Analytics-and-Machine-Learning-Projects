{
 "cells": [
  {
   "cell_type": "markdown",
   "id": "750e59fb",
   "metadata": {},
   "source": [
    " # Predicting Lung Capacity with Linear Regression Model\n",
    " "
   ]
  },
  {
   "cell_type": "markdown",
   "id": "76085b39",
   "metadata": {},
   "source": [
    "## 0. Introduction\n",
    "\n",
    "Lung Capacity is the volume of air in the lungs upon the maximum effort of inspiration.  Among healthy adults, the average lung capacity is about 6 liters. According to Delgado and Bajaj (2021),age, gender, body composition, and ethnicity are factors affecting the different ranges of lung capacity among individuals."
   ]
  },
  {
   "cell_type": "markdown",
   "id": "61dafd5c",
   "metadata": {},
   "source": [
    "The objective of this project is to build a model that accurately predicts the lung capacity of person using the person's age [Age(years)], height [Height(inches)], whether the person is a smoker or not [Smoke], the person's gender [Gender],and if the person was born by Caesarean [Caesarean].\n",
    "\n",
    "The data was gotten from [kaggle.com](https://www.kaggle.com/datasets/radhakrishna4/lung-capacity)"
   ]
  },
  {
   "cell_type": "markdown",
   "id": "3746a22a",
   "metadata": {},
   "source": [
    "## 1. Prepare Data: Load, Preview, Explore and Split Data"
   ]
  },
  {
   "cell_type": "markdown",
   "id": "6d344b82",
   "metadata": {},
   "source": [
    "### A. Load and Preview"
   ]
  },
  {
   "cell_type": "code",
   "execution_count": 58,
   "id": "16733a25",
   "metadata": {},
   "outputs": [],
   "source": [
    "# Import required libraries (others would be imported later on as the their need arises)\n",
    "import numpy as np\n",
    "import pandas as pd\n",
    "import matplotlib.pyplot as plt\n",
    "import seaborn as sns\n",
    "from scipy.stats import skew\n",
    "import warnings\n",
    "warnings.filterwarnings('ignore')"
   ]
  },
  {
   "cell_type": "code",
   "execution_count": 81,
   "id": "5f5a8f93",
   "metadata": {},
   "outputs": [
    {
     "data": {
      "text/html": [
       "<div>\n",
       "<style scoped>\n",
       "    .dataframe tbody tr th:only-of-type {\n",
       "        vertical-align: middle;\n",
       "    }\n",
       "\n",
       "    .dataframe tbody tr th {\n",
       "        vertical-align: top;\n",
       "    }\n",
       "\n",
       "    .dataframe thead th {\n",
       "        text-align: right;\n",
       "    }\n",
       "</style>\n",
       "<table border=\"1\" class=\"dataframe\">\n",
       "  <thead>\n",
       "    <tr style=\"text-align: right;\">\n",
       "      <th></th>\n",
       "      <th>LungCap(CC)</th>\n",
       "      <th>Age(Years)</th>\n",
       "      <th>Height(Inches)</th>\n",
       "      <th>Smoke</th>\n",
       "      <th>Gender</th>\n",
       "      <th>Caesarean</th>\n",
       "    </tr>\n",
       "  </thead>\n",
       "  <tbody>\n",
       "    <tr>\n",
       "      <th>0</th>\n",
       "      <td>6.475</td>\n",
       "      <td>6</td>\n",
       "      <td>62.1</td>\n",
       "      <td>no</td>\n",
       "      <td>male</td>\n",
       "      <td>no</td>\n",
       "    </tr>\n",
       "    <tr>\n",
       "      <th>1</th>\n",
       "      <td>10.125</td>\n",
       "      <td>18</td>\n",
       "      <td>74.7</td>\n",
       "      <td>yes</td>\n",
       "      <td>female</td>\n",
       "      <td>no</td>\n",
       "    </tr>\n",
       "    <tr>\n",
       "      <th>2</th>\n",
       "      <td>9.550</td>\n",
       "      <td>16</td>\n",
       "      <td>69.7</td>\n",
       "      <td>no</td>\n",
       "      <td>female</td>\n",
       "      <td>yes</td>\n",
       "    </tr>\n",
       "    <tr>\n",
       "      <th>3</th>\n",
       "      <td>11.125</td>\n",
       "      <td>14</td>\n",
       "      <td>71.0</td>\n",
       "      <td>no</td>\n",
       "      <td>male</td>\n",
       "      <td>no</td>\n",
       "    </tr>\n",
       "    <tr>\n",
       "      <th>4</th>\n",
       "      <td>4.800</td>\n",
       "      <td>5</td>\n",
       "      <td>56.9</td>\n",
       "      <td>no</td>\n",
       "      <td>male</td>\n",
       "      <td>no</td>\n",
       "    </tr>\n",
       "  </tbody>\n",
       "</table>\n",
       "</div>"
      ],
      "text/plain": [
       "   LungCap(CC)  Age(Years)  Height(Inches) Smoke  Gender Caesarean\n",
       "0        6.475           6            62.1    no    male        no\n",
       "1       10.125          18            74.7   yes  female        no\n",
       "2        9.550          16            69.7    no  female       yes\n",
       "3       11.125          14            71.0    no    male        no\n",
       "4        4.800           5            56.9    no    male        no"
      ]
     },
     "execution_count": 81,
     "metadata": {},
     "output_type": "execute_result"
    }
   ],
   "source": [
    "df = pd.read_excel(r\"C:\\Users\\HP\\Downloads\\CSVs/LungCap.xls\") # Imports the CSV file as a pandas dataframe\n",
    "df.head() # To preview the data (first five rows)"
   ]
  },
  {
   "cell_type": "code",
   "execution_count": 82,
   "id": "62f40cfb",
   "metadata": {},
   "outputs": [
    {
     "name": "stdout",
     "output_type": "stream",
     "text": [
      "<class 'pandas.core.frame.DataFrame'>\n",
      "RangeIndex: 725 entries, 0 to 724\n",
      "Data columns (total 6 columns):\n",
      " #   Column          Non-Null Count  Dtype  \n",
      "---  ------          --------------  -----  \n",
      " 0   LungCap(CC)     725 non-null    float64\n",
      " 1   Age(Years)      725 non-null    int64  \n",
      " 2   Height(Inches)  725 non-null    float64\n",
      " 3   Smoke           725 non-null    object \n",
      " 4   Gender          725 non-null    object \n",
      " 5   Caesarean       725 non-null    object \n",
      "dtypes: float64(2), int64(1), object(3)\n",
      "memory usage: 34.1+ KB\n"
     ]
    }
   ],
   "source": [
    "df.info()"
   ]
  },
  {
   "cell_type": "markdown",
   "id": "509b37aa",
   "metadata": {},
   "source": [
    "Observations:\n",
    "- From the above information, it appears there are no missing values in the dataset.\n",
    "- The dataset consists of three numerical features (LungCap(cc), Age( years), Height(inches) ) and three binary categorical features (Smoke, Gender, Caeserean).\n",
    "- The dataset contains only 725 entries (which is fairly small)"
   ]
  },
  {
   "cell_type": "markdown",
   "id": "d3197493",
   "metadata": {},
   "source": [
    "### B. Explore\n",
    "\n",
    "Taking a quick glance at the distribution of each variable or feature"
   ]
  },
  {
   "cell_type": "code",
   "execution_count": 83,
   "id": "1c492c31",
   "metadata": {},
   "outputs": [],
   "source": [
    "# First, split the features by their datatypes\n",
    "df_cat = df.select_dtypes(include=\"object\").columns.to_list()\n",
    "df_num = df.select_dtypes(exclude=\"object\").columns.to_list()"
   ]
  },
  {
   "cell_type": "code",
   "execution_count": 84,
   "id": "648486b1",
   "metadata": {},
   "outputs": [
    {
     "data": {
      "image/png": "[encoded data removed]",
      "text/plain": [
       "<Figure size 1152x720 with 6 Axes>"
      ]
     },
     "metadata": {
      "needs_background": "light"
     },
     "output_type": "display_data"
    }
   ],
   "source": [
    "fig, axes = plt.subplots(2, 3, figsize=(16, 10))\n",
    "\n",
    "# For the categorical features\n",
    "j = 0\n",
    "for i in df_cat:\n",
    "    sns.countplot(i,data=df,ax=axes[0,j])\n",
    "    j += 1\n",
    "        \n",
    "# For the numerical features\n",
    "j = 0\n",
    "for i in df_num:\n",
    "    sns.distplot(df[i],ax=axes[1,j])\n",
    "    j += 1\n",
    "        \n",
    "plt.show()"
   ]
  },
  {
   "cell_type": "markdown",
   "id": "0a96efaa",
   "metadata": {},
   "source": [
    "Observations:\n",
    "- For the categorical features, both the 'Caeserean' and the 'Smoke' features seem unevenly distributed between the 'yes' and 'no' reponses. But the 'Gender' feature seem to be evenly distributed between the 'male' and 'female' responses.\n",
    "- All three numerical features seem to be normally distributed about their means (indicated by the normal curve superimposed on them)"
   ]
  },
  {
   "cell_type": "markdown",
   "id": "61b77b28",
   "metadata": {},
   "source": [
    "#### Let's take a closer look at each feature...\n",
    "\n",
    "##### Smoke"
   ]
  },
  {
   "cell_type": "code",
   "execution_count": 15,
   "id": "c52ae28b",
   "metadata": {},
   "outputs": [
    {
     "data": {
      "text/plain": [
       "no     648\n",
       "yes     77\n",
       "Name: Smoke, dtype: int64"
      ]
     },
     "execution_count": 15,
     "metadata": {},
     "output_type": "execute_result"
    }
   ],
   "source": [
    "df.Smoke.value_counts() # Computes frequency distribution of the 'smoke' variable "
   ]
  },
  {
   "cell_type": "markdown",
   "id": "bcbeb749",
   "metadata": {},
   "source": [
    "To better comprehend the distribution, let's use its relative frequency (percentages), rather than the absolute frequency (simple value counts) as shown above"
   ]
  },
  {
   "cell_type": "code",
   "execution_count": 19,
   "id": "64f02640",
   "metadata": {},
   "outputs": [
    {
     "data": {
      "text/plain": [
       "no     89.4\n",
       "yes    10.6\n",
       "Name: Smoke, dtype: float64"
      ]
     },
     "execution_count": 19,
     "metadata": {},
     "output_type": "execute_result"
    }
   ],
   "source": [
    "round(df.Smoke.value_counts(normalize=True)*100,1) # Computes relative frequency distribution of the 'Smoke' variable "
   ]
  },
  {
   "cell_type": "markdown",
   "id": "3c513eca",
   "metadata": {},
   "source": [
    "This can be visualized using a simple piechart:"
   ]
  },
  {
   "cell_type": "code",
   "execution_count": 55,
   "id": "5199d53f",
   "metadata": {},
   "outputs": [
    {
     "data": {
      "image/png": "[encoded data removed]",
      "text/plain": [
       "<Figure size 432x432 with 1 Axes>"
      ]
     },
     "metadata": {},
     "output_type": "display_data"
    }
   ],
   "source": [
    "df.Smoke.value_counts().plot.pie(autopct = '%1.0f%%',shadow = True, figsize=(6,6)); # Plots pie chart of the 'Smoke' variable"
   ]
  },
  {
   "cell_type": "markdown",
   "id": "5b4809c9",
   "metadata": {},
   "source": [
    "Apparently, only 11% of the 725 people sampled are smokers.\n",
    "\n"
   ]
  },
  {
   "cell_type": "markdown",
   "id": "e93a55ce",
   "metadata": {},
   "source": [
    "\n",
    "\n",
    "##### Gender"
   ]
  },
  {
   "cell_type": "code",
   "execution_count": 36,
   "id": "c7df2d90",
   "metadata": {},
   "outputs": [
    {
     "data": {
      "text/plain": [
       "male      367\n",
       "female    358\n",
       "Name: Gender, dtype: int64"
      ]
     },
     "execution_count": 36,
     "metadata": {},
     "output_type": "execute_result"
    }
   ],
   "source": [
    "df.Gender.value_counts() # Computes frequency distribution of the 'Gender' feature "
   ]
  },
  {
   "cell_type": "code",
   "execution_count": 37,
   "id": "94e6feae",
   "metadata": {},
   "outputs": [
    {
     "data": {
      "text/plain": [
       "male      50.6\n",
       "female    49.4\n",
       "Name: Gender, dtype: float64"
      ]
     },
     "execution_count": 37,
     "metadata": {},
     "output_type": "execute_result"
    }
   ],
   "source": [
    "round(df.Gender.value_counts(normalize=True)*100,1) # Computes relative frequency distribution of the 'Gender' feature "
   ]
  },
  {
   "cell_type": "code",
   "execution_count": 53,
   "id": "dcc1d2b7",
   "metadata": {},
   "outputs": [
    {
     "data": {
      "image/png": "[encoded data removed]",
      "text/plain": [
       "<Figure size 432x432 with 1 Axes>"
      ]
     },
     "metadata": {},
     "output_type": "display_data"
    }
   ],
   "source": [
    "df.Gender.value_counts().plot.pie(autopct = '%1.0f%%',shadow = True, figsize=(6,6)); # Plots pie chart of the 'Smoke' variable"
   ]
  },
  {
   "cell_type": "markdown",
   "id": "330316a2",
   "metadata": {},
   "source": [
    "There is an almost even distribution between both genders."
   ]
  },
  {
   "cell_type": "markdown",
   "id": "a0baf41c",
   "metadata": {},
   "source": [
    "##### Caesarean"
   ]
  },
  {
   "cell_type": "code",
   "execution_count": 39,
   "id": "6b99c7b9",
   "metadata": {},
   "outputs": [
    {
     "data": {
      "text/plain": [
       "no     561\n",
       "yes    164\n",
       "Name: Caesarean, dtype: int64"
      ]
     },
     "execution_count": 39,
     "metadata": {},
     "output_type": "execute_result"
    }
   ],
   "source": [
    "df.Caesarean.value_counts()"
   ]
  },
  {
   "cell_type": "code",
   "execution_count": 41,
   "id": "c82a58a4",
   "metadata": {},
   "outputs": [
    {
     "data": {
      "text/plain": [
       "no     77.4\n",
       "yes    22.6\n",
       "Name: Caesarean, dtype: float64"
      ]
     },
     "execution_count": 41,
     "metadata": {},
     "output_type": "execute_result"
    }
   ],
   "source": [
    "round(df.Caesarean.value_counts(normalize=True)*100,1)"
   ]
  },
  {
   "cell_type": "code",
   "execution_count": 54,
   "id": "c0e08417",
   "metadata": {},
   "outputs": [
    {
     "data": {
      "image/png": "[encoded data removed]",
      "text/plain": [
       "<Figure size 432x432 with 1 Axes>"
      ]
     },
     "metadata": {},
     "output_type": "display_data"
    }
   ],
   "source": [
    "df.Caesarean.value_counts().plot.pie(autopct = '%1.0f%%',shadow = True, figsize=(6,6));"
   ]
  },
  {
   "cell_type": "markdown",
   "id": "eab5a751",
   "metadata": {},
   "source": [
    "Only 23% were born by Caesarean."
   ]
  },
  {
   "cell_type": "markdown",
   "id": "3d9a7734",
   "metadata": {},
   "source": [
    "##### LungCap, Age, Height"
   ]
  },
  {
   "cell_type": "markdown",
   "id": "3eefff07",
   "metadata": {},
   "source": [
    "Unlike the categorical features explored and summarized above, numerical features can only be summarized using descriptives such as the mean, standard devaition, and the five summary statitics (min, q1, q2, q3, max)"
   ]
  },
  {
   "cell_type": "code",
   "execution_count": 85,
   "id": "67b0dd29",
   "metadata": {},
   "outputs": [
    {
     "data": {
      "text/html": [
       "<div>\n",
       "<style scoped>\n",
       "    .dataframe tbody tr th:only-of-type {\n",
       "        vertical-align: middle;\n",
       "    }\n",
       "\n",
       "    .dataframe tbody tr th {\n",
       "        vertical-align: top;\n",
       "    }\n",
       "\n",
       "    .dataframe thead th {\n",
       "        text-align: right;\n",
       "    }\n",
       "</style>\n",
       "<table border=\"1\" class=\"dataframe\">\n",
       "  <thead>\n",
       "    <tr style=\"text-align: right;\">\n",
       "      <th></th>\n",
       "      <th>LungCap(CC)</th>\n",
       "      <th>Age(Years)</th>\n",
       "      <th>Height(Inches)</th>\n",
       "    </tr>\n",
       "  </thead>\n",
       "  <tbody>\n",
       "    <tr>\n",
       "      <th>count</th>\n",
       "      <td>725.00</td>\n",
       "      <td>725.00</td>\n",
       "      <td>725.00</td>\n",
       "    </tr>\n",
       "    <tr>\n",
       "      <th>mean</th>\n",
       "      <td>7.86</td>\n",
       "      <td>12.33</td>\n",
       "      <td>64.84</td>\n",
       "    </tr>\n",
       "    <tr>\n",
       "      <th>std</th>\n",
       "      <td>2.66</td>\n",
       "      <td>4.00</td>\n",
       "      <td>7.20</td>\n",
       "    </tr>\n",
       "    <tr>\n",
       "      <th>min</th>\n",
       "      <td>0.51</td>\n",
       "      <td>3.00</td>\n",
       "      <td>45.30</td>\n",
       "    </tr>\n",
       "    <tr>\n",
       "      <th>25%</th>\n",
       "      <td>6.15</td>\n",
       "      <td>9.00</td>\n",
       "      <td>59.90</td>\n",
       "    </tr>\n",
       "    <tr>\n",
       "      <th>50%</th>\n",
       "      <td>8.00</td>\n",
       "      <td>13.00</td>\n",
       "      <td>65.40</td>\n",
       "    </tr>\n",
       "    <tr>\n",
       "      <th>75%</th>\n",
       "      <td>9.80</td>\n",
       "      <td>15.00</td>\n",
       "      <td>70.30</td>\n",
       "    </tr>\n",
       "    <tr>\n",
       "      <th>max</th>\n",
       "      <td>14.68</td>\n",
       "      <td>19.00</td>\n",
       "      <td>81.80</td>\n",
       "    </tr>\n",
       "  </tbody>\n",
       "</table>\n",
       "</div>"
      ],
      "text/plain": [
       "       LungCap(CC)  Age(Years)  Height(Inches)\n",
       "count       725.00      725.00          725.00\n",
       "mean          7.86       12.33           64.84\n",
       "std           2.66        4.00            7.20\n",
       "min           0.51        3.00           45.30\n",
       "25%           6.15        9.00           59.90\n",
       "50%           8.00       13.00           65.40\n",
       "75%           9.80       15.00           70.30\n",
       "max          14.68       19.00           81.80"
      ]
     },
     "execution_count": 85,
     "metadata": {},
     "output_type": "execute_result"
    }
   ],
   "source": [
    "round(df.describe(),2) # Computes the summary statistics of the numerical features"
   ]
  },
  {
   "cell_type": "markdown",
   "id": "5d9861ce",
   "metadata": {},
   "source": [
    "Checking for skewness..."
   ]
  },
  {
   "cell_type": "code",
   "execution_count": 86,
   "id": "26f2e57e",
   "metadata": {},
   "outputs": [
    {
     "data": {
      "image/png": "[encoded data removed]",
      "text/plain": [
       "<Figure size 432x432 with 1 Axes>"
      ]
     },
     "metadata": {
      "needs_background": "light"
     },
     "output_type": "display_data"
    },
    {
     "data": {
      "image/png": "[encoded data removed]",
      "text/plain": [
       "<Figure size 432x432 with 1 Axes>"
      ]
     },
     "metadata": {
      "needs_background": "light"
     },
     "output_type": "display_data"
    },
    {
     "data": {
      "image/png": "[encoded data removed]",
      "text/plain": [
       "<Figure size 432x432 with 1 Axes>"
      ]
     },
     "metadata": {
      "needs_background": "light"
     },
     "output_type": "display_data"
    }
   ],
   "source": [
    "for i in df_num:\n",
    "    plt.figure(figsize=(6,6))\n",
    "    sns.histplot(data=df[i])"
   ]
  },
  {
   "cell_type": "markdown",
   "id": "411dd921",
   "metadata": {},
   "source": [
    "Of all three features, the 'age' feature seems to be slightly negatively skewed.\n",
    "\n",
    "Checking with the skewness value should give a better picture"
   ]
  },
  {
   "cell_type": "code",
   "execution_count": 87,
   "id": "2bd9e3cf",
   "metadata": {},
   "outputs": [
    {
     "name": "stdout",
     "output_type": "stream",
     "text": [
      "The Skewness of LungCap(CC) is -0.227\n",
      "The Skewness of Age(Years) is -0.257\n",
      "The Skewness of Height(Inches) is -0.226\n"
     ]
    }
   ],
   "source": [
    "for i in df_num:\n",
    "    print(f\"The Skewness of {i} is\", round(skew(df[i]),3))"
   ]
  },
  {
   "cell_type": "markdown",
   "id": "76d34a8b",
   "metadata": {},
   "source": [
    "The skewness values (and the plots) above shows that LungCap, Age, and Height are slightly negatively skewed. However, we may check to see if outliers are reponsible for the skewness"
   ]
  },
  {
   "cell_type": "code",
   "execution_count": 88,
   "id": "1846d490",
   "metadata": {},
   "outputs": [
    {
     "data": {
      "image/png": "[encoded data removed]",
      "text/plain": [
       "<Figure size 432x360 with 1 Axes>"
      ]
     },
     "metadata": {
      "needs_background": "light"
     },
     "output_type": "display_data"
    },
    {
     "data": {
      "image/png": "[encoded data removed]",
      "text/plain": [
       "<Figure size 432x360 with 1 Axes>"
      ]
     },
     "metadata": {
      "needs_background": "light"
     },
     "output_type": "display_data"
    },
    {
     "data": {
      "image/png": "[encoded data removed]",
      "text/plain": [
       "<Figure size 432x360 with 1 Axes>"
      ]
     },
     "metadata": {
      "needs_background": "light"
     },
     "output_type": "display_data"
    }
   ],
   "source": [
    "for i in df_num:\n",
    "    plt.figure(figsize=(6,5))\n",
    "    sns.boxplot(i, data=df)"
   ]
  },
  {
   "cell_type": "markdown",
   "id": "6f54ad3b",
   "metadata": {},
   "source": [
    "Only LungCap seem to have an outlier. \n",
    "\n",
    "Let's remove the outlier and observe the skewness value..."
   ]
  },
  {
   "cell_type": "code",
   "execution_count": 91,
   "id": "8f044482",
   "metadata": {},
   "outputs": [
    {
     "data": {
      "text/html": [
       "<div>\n",
       "<style scoped>\n",
       "    .dataframe tbody tr th:only-of-type {\n",
       "        vertical-align: middle;\n",
       "    }\n",
       "\n",
       "    .dataframe tbody tr th {\n",
       "        vertical-align: top;\n",
       "    }\n",
       "\n",
       "    .dataframe thead th {\n",
       "        text-align: right;\n",
       "    }\n",
       "</style>\n",
       "<table border=\"1\" class=\"dataframe\">\n",
       "  <thead>\n",
       "    <tr style=\"text-align: right;\">\n",
       "      <th></th>\n",
       "      <th>LungCap(CC)</th>\n",
       "      <th>Age(Years)</th>\n",
       "      <th>Height(Inches)</th>\n",
       "      <th>Smoke</th>\n",
       "      <th>Gender</th>\n",
       "      <th>Caesarean</th>\n",
       "    </tr>\n",
       "  </thead>\n",
       "  <tbody>\n",
       "    <tr>\n",
       "      <th>149</th>\n",
       "      <td>0.507</td>\n",
       "      <td>3</td>\n",
       "      <td>51.6</td>\n",
       "      <td>no</td>\n",
       "      <td>female</td>\n",
       "      <td>yes</td>\n",
       "    </tr>\n",
       "  </tbody>\n",
       "</table>\n",
       "</div>"
      ],
      "text/plain": [
       "     LungCap(CC)  Age(Years)  Height(Inches) Smoke  Gender Caesarean\n",
       "149        0.507           3            51.6    no  female       yes"
      ]
     },
     "execution_count": 91,
     "metadata": {},
     "output_type": "execute_result"
    }
   ],
   "source": [
    "# Locate the outlier entry\n",
    "df.loc[df[\"LungCap(CC)\"]<1]"
   ]
  },
  {
   "cell_type": "code",
   "execution_count": 92,
   "id": "d96f6d2a",
   "metadata": {},
   "outputs": [],
   "source": [
    "df = df.drop(149, axis=0) # Drops the outlier"
   ]
  },
  {
   "cell_type": "code",
   "execution_count": 94,
   "id": "0c8da864",
   "metadata": {},
   "outputs": [
    {
     "name": "stdout",
     "output_type": "stream",
     "text": [
      "The Skewness of LungCap is -0.213\n"
     ]
    }
   ],
   "source": [
    "print(f\"The Skewness of LungCap is\", round(skew(df[\"LungCap(CC)\"]),3))"
   ]
  },
  {
   "cell_type": "markdown",
   "id": "b8bcb4f9",
   "metadata": {},
   "source": [
    "From the recalculated value above, it is evident that the outlier has little or no significant effect on the skewness.\n",
    "\n",
    "Though, univariate normality of the features isn't really an important issue in regression, however, the presence of outliers may cause potential problems for your model (see [Anscombe's Quartet](https://en.wikipedia.org/wiki/Anscombe%27s_quartet)). Though outliers should generally never be removed from a sample unless there is good substantive (in addition to statistical) reason for doing so, the linear regression model assumes that there are no extreme observations that would otherwise contribute to gross misspecification of the fitted model (see Denis, Daniel J., 2015)."
   ]
  },
  {
   "cell_type": "markdown",
   "id": "a1968021",
   "metadata": {},
   "source": [
    "#### Multicolinearity Check\n",
    "\n",
    "Since we intend to fit a regresion model to the data, it is just pertinent we check the numerical features for multicolinearity and drop such feature, if any."
   ]
  },
  {
   "cell_type": "code",
   "execution_count": 207,
   "id": "159d328d",
   "metadata": {},
   "outputs": [
    {
     "data": {
      "text/html": [
       "<div>\n",
       "<style scoped>\n",
       "    .dataframe tbody tr th:only-of-type {\n",
       "        vertical-align: middle;\n",
       "    }\n",
       "\n",
       "    .dataframe tbody tr th {\n",
       "        vertical-align: top;\n",
       "    }\n",
       "\n",
       "    .dataframe thead th {\n",
       "        text-align: right;\n",
       "    }\n",
       "</style>\n",
       "<table border=\"1\" class=\"dataframe\">\n",
       "  <thead>\n",
       "    <tr style=\"text-align: right;\">\n",
       "      <th></th>\n",
       "      <th>LungCap(CC)</th>\n",
       "      <th>Age(Years)</th>\n",
       "      <th>Height(Inches)</th>\n",
       "    </tr>\n",
       "  </thead>\n",
       "  <tbody>\n",
       "    <tr>\n",
       "      <th>LungCap(CC)</th>\n",
       "      <td>1.000000</td>\n",
       "      <td>0.818164</td>\n",
       "      <td>0.912114</td>\n",
       "    </tr>\n",
       "    <tr>\n",
       "      <th>Age(Years)</th>\n",
       "      <td>0.818164</td>\n",
       "      <td>1.000000</td>\n",
       "      <td>0.834900</td>\n",
       "    </tr>\n",
       "    <tr>\n",
       "      <th>Height(Inches)</th>\n",
       "      <td>0.912114</td>\n",
       "      <td>0.834900</td>\n",
       "      <td>1.000000</td>\n",
       "    </tr>\n",
       "  </tbody>\n",
       "</table>\n",
       "</div>"
      ],
      "text/plain": [
       "                LungCap(CC)  Age(Years)  Height(Inches)\n",
       "LungCap(CC)        1.000000    0.818164        0.912114\n",
       "Age(Years)         0.818164    1.000000        0.834900\n",
       "Height(Inches)     0.912114    0.834900        1.000000"
      ]
     },
     "execution_count": 207,
     "metadata": {},
     "output_type": "execute_result"
    }
   ],
   "source": [
    "df.corr() # Computes the correlation matrix of the numerical features"
   ]
  },
  {
   "cell_type": "markdown",
   "id": "11dec539",
   "metadata": {},
   "source": [
    "Age and Height appear to be highly correlated (R = 0.834900) . One of them needs to be dropped to avoid the problem of multicolinearity [Read about multicollinearity here](https://en.wikipedia.org/wiki/Multicollinearity). Age would be dropped since it has lesser predictive power (R = 0.818164) compared to Height (R = 0.912114)"
   ]
  },
  {
   "cell_type": "code",
   "execution_count": 208,
   "id": "3ad50c4c",
   "metadata": {},
   "outputs": [
    {
     "data": {
      "text/html": [
       "<div>\n",
       "<style scoped>\n",
       "    .dataframe tbody tr th:only-of-type {\n",
       "        vertical-align: middle;\n",
       "    }\n",
       "\n",
       "    .dataframe tbody tr th {\n",
       "        vertical-align: top;\n",
       "    }\n",
       "\n",
       "    .dataframe thead th {\n",
       "        text-align: right;\n",
       "    }\n",
       "</style>\n",
       "<table border=\"1\" class=\"dataframe\">\n",
       "  <thead>\n",
       "    <tr style=\"text-align: right;\">\n",
       "      <th></th>\n",
       "      <th>LungCap(CC)</th>\n",
       "      <th>Height(Inches)</th>\n",
       "      <th>Smoke</th>\n",
       "      <th>Gender</th>\n",
       "      <th>Caesarean</th>\n",
       "    </tr>\n",
       "  </thead>\n",
       "  <tbody>\n",
       "    <tr>\n",
       "      <th>0</th>\n",
       "      <td>6.475</td>\n",
       "      <td>62.1</td>\n",
       "      <td>no</td>\n",
       "      <td>male</td>\n",
       "      <td>no</td>\n",
       "    </tr>\n",
       "    <tr>\n",
       "      <th>1</th>\n",
       "      <td>10.125</td>\n",
       "      <td>74.7</td>\n",
       "      <td>yes</td>\n",
       "      <td>female</td>\n",
       "      <td>no</td>\n",
       "    </tr>\n",
       "    <tr>\n",
       "      <th>2</th>\n",
       "      <td>9.550</td>\n",
       "      <td>69.7</td>\n",
       "      <td>no</td>\n",
       "      <td>female</td>\n",
       "      <td>yes</td>\n",
       "    </tr>\n",
       "    <tr>\n",
       "      <th>3</th>\n",
       "      <td>11.125</td>\n",
       "      <td>71.0</td>\n",
       "      <td>no</td>\n",
       "      <td>male</td>\n",
       "      <td>no</td>\n",
       "    </tr>\n",
       "    <tr>\n",
       "      <th>4</th>\n",
       "      <td>4.800</td>\n",
       "      <td>56.9</td>\n",
       "      <td>no</td>\n",
       "      <td>male</td>\n",
       "      <td>no</td>\n",
       "    </tr>\n",
       "  </tbody>\n",
       "</table>\n",
       "</div>"
      ],
      "text/plain": [
       "   LungCap(CC)  Height(Inches) Smoke  Gender Caesarean\n",
       "0        6.475            62.1    no    male        no\n",
       "1       10.125            74.7   yes  female        no\n",
       "2        9.550            69.7    no  female       yes\n",
       "3       11.125            71.0    no    male        no\n",
       "4        4.800            56.9    no    male        no"
      ]
     },
     "execution_count": 208,
     "metadata": {},
     "output_type": "execute_result"
    }
   ],
   "source": [
    "dfm = df.drop(columns=\"Age(Years)\")\n",
    "dfm.head()"
   ]
  },
  {
   "cell_type": "markdown",
   "id": "e330b01f",
   "metadata": {},
   "source": [
    "### C. Split Data\n",
    "\n",
    "Here, we split the data into target (LungCap) and predictors (Age, Height, Smoke, Gender, Caeserean).\n",
    "\n",
    "\n"
   ]
  },
  {
   "cell_type": "code",
   "execution_count": 209,
   "id": "031a0714",
   "metadata": {},
   "outputs": [
    {
     "name": "stdout",
     "output_type": "stream",
     "text": [
      "Here's the first five rows of the taregt vector:\n",
      "0     6.475\n",
      "1    10.125\n",
      "2     9.550\n",
      "3    11.125\n",
      "4     4.800\n",
      "Name: LungCap, dtype: float64\n",
      "\n",
      "Here's the first five rows of the predictor/feauture matrix:\n",
      "   Height(Inches) Smoke  Gender Caesarean\n",
      "0            62.1    no    male        no\n",
      "1            74.7   yes  female        no\n",
      "2            69.7    no  female       yes\n",
      "3            71.0    no    male        no\n",
      "4            56.9    no    male        no\n",
      "\n",
      "\n"
     ]
    }
   ],
   "source": [
    "target = \"LungCap(CC)\"\n",
    "X = dfm.drop(columns=target)\n",
    "y = dfm[target]\n",
    "print(\"Here's the first five rows of the taregt vector:\")\n",
    "print(y.rename(\"LungCap\").head())\n",
    "print()\n",
    "print(\"Here's the first five rows of the predictor/feauture matrix:\")\n",
    "print(X.head())\n",
    "print()\n",
    "print()"
   ]
  },
  {
   "cell_type": "markdown",
   "id": "c9f00ede",
   "metadata": {},
   "source": [
    "Next is to perform a horizontal split, dividing the data into training set (80% of the data) and test set (20% of the data)."
   ]
  },
  {
   "cell_type": "code",
   "execution_count": 210,
   "id": "87b95f45",
   "metadata": {},
   "outputs": [
    {
     "name": "stdout",
     "output_type": "stream",
     "text": [
      "The shape of X_train is (579, 4), and the shape of X_test is (145, 4)\n"
     ]
    }
   ],
   "source": [
    "from sklearn.model_selection import train_test_split\n",
    "X_train, X_test, y_train, y_test = train_test_split(X, y, test_size=0.2, random_state=42)\n",
    "\n",
    "print(f\"The shape of X_train is {X_train.shape}, and the shape of X_test is {X_test.shape}\")"
   ]
  },
  {
   "cell_type": "markdown",
   "id": "6500c345",
   "metadata": {},
   "source": [
    "Now, our data is ready to train the model :) "
   ]
  },
  {
   "cell_type": "markdown",
   "id": "720ca0fb",
   "metadata": {},
   "source": [
    "## 2. Build Model\n",
    "\n",
    "### A. Compute Baseline Score"
   ]
  },
  {
   "cell_type": "markdown",
   "id": "fa4503c4",
   "metadata": {},
   "source": [
    "To predict the value of any numerical outcome/variable, our best guess (though may be regarded as uneducated in this context) usually would be the average value of that variable (a.k.a mean or expected value). The standard deviation measures how far off on the average, the mean is from the actual value. A machine learning model is expected to perform better (in terms of accuracy) than a baseline model (in this case, the mean). Hence, the average deviation of the predicted values from the actual values is expected to be way lower than that of the  baseline model (the standard devaition).\n",
    "\n",
    "The standard devation of the variable can also be called the root mean squared error of the baseline model, which we now seek to compute:"
   ]
  },
  {
   "cell_type": "code",
   "execution_count": 211,
   "id": "2a1aafe3",
   "metadata": {},
   "outputs": [
    {
     "name": "stdout",
     "output_type": "stream",
     "text": [
      "Mean LungCap: 7.874093264248702\n",
      "Baseline RMSE: 2.66\n"
     ]
    }
   ],
   "source": [
    "RMSE_baseline = np.std(y_train) # Computes the RMSE of the baseline model\n",
    "print(\"Mean LungCap:\", y_mean)\n",
    "print(\"Baseline RMSE:\", round(RMSE_baseline,2))"
   ]
  },
  {
   "cell_type": "markdown",
   "id": "88321178",
   "metadata": {},
   "source": [
    "### B. Train Model"
   ]
  },
  {
   "cell_type": "code",
   "execution_count": 243,
   "id": "63a38815",
   "metadata": {},
   "outputs": [
    {
     "data": {
      "text/plain": [
       "Pipeline(steps=[('binaryencoder',\n",
       "                 BinaryEncoder(cols=['Smoke', 'Gender', 'Caesarean'],\n",
       "                               mapping=[{'col': 'Smoke',\n",
       "                                         'mapping':     Smoke_0  Smoke_1\n",
       " 1        0        1\n",
       " 2        1        0\n",
       "-1        0        0\n",
       "-2        0        0},\n",
       "                                        {'col': 'Gender',\n",
       "                                         'mapping':     Gender_0  Gender_1\n",
       " 1         0         1\n",
       " 2         1         0\n",
       "-1         0         0\n",
       "-2         0         0},\n",
       "                                        {'col': 'Caesarean',\n",
       "                                         'mapping':     Caesarean_0  Caesarean_1\n",
       " 1            0            1\n",
       " 2            1            0\n",
       "-1            0            0\n",
       "-2            0            0}])),\n",
       "                ('standardscaler', StandardScaler()),\n",
       "                ('linearregression', LinearRegression())])"
      ]
     },
     "execution_count": 243,
     "metadata": {},
     "output_type": "execute_result"
    }
   ],
   "source": [
    "# Import required libraries to buld the model\n",
    "from sklearn.pipeline import make_pipeline\n",
    "from category_encoders import BinaryEncoder\n",
    "from sklearn.linear_model import LinearRegression\n",
    "from sklearn.preprocessing import StandardScaler\n",
    "from sklearn.preprocessing import LabelEncoder\n",
    "\n",
    "# Build model via pipeline\n",
    "model_lr = make_pipeline(\n",
    "            BinaryEncoder(),\n",
    "            StandardScaler(),\n",
    "            LinearRegression()\n",
    "                     )\n",
    "# Fit the model to the training set\n",
    "model_lr.fit(X_train, y_train)"
   ]
  },
  {
   "cell_type": "markdown",
   "id": "1c496878",
   "metadata": {},
   "source": [
    "### C. Evaluate Model\n",
    "\n",
    "Now that our model has been fitted to the data, let's see how well it peformed against the baseline model aforementioned."
   ]
  },
  {
   "cell_type": "code",
   "execution_count": 244,
   "id": "163ad830",
   "metadata": {},
   "outputs": [
    {
     "name": "stdout",
     "output_type": "stream",
     "text": [
      "Baseline RMSE: 2.66\n",
      "The trained model RMSE: 1.05\n"
     ]
    }
   ],
   "source": [
    "from sklearn.metrics import mean_squared_error\n",
    "\n",
    "y_train_pred = model_lr.predict(X_train) # Returns the model's 'y' estimates\n",
    "RMSE_Trained = np.sqrt(mean_squared_error(y_train,y_train_pred)) # Computes the RMSE of the trained model\n",
    "print(\"Baseline RMSE:\", round(RMSE_baseline,2))\n",
    "print(\"The trained model RMSE:\", round(RMSE_Trained,2))"
   ]
  },
  {
   "cell_type": "markdown",
   "id": "5f4a0c89",
   "metadata": {},
   "source": [
    "It is safe to say that our trained model outperforms the baseline model.\n",
    "\n",
    "Next, let's see how well the model can generalize over the test set..."
   ]
  },
  {
   "cell_type": "code",
   "execution_count": 245,
   "id": "a7fa0dca",
   "metadata": {},
   "outputs": [
    {
     "name": "stdout",
     "output_type": "stream",
     "text": [
      "The test set RMSE: 1.13\n"
     ]
    }
   ],
   "source": [
    "y_test_pred = model_lr.predict(X_test) # Returns the test set's 'y' estimeates\n",
    "RMSE_Test = np.sqrt(mean_squared_error(y_test,y_test_pred))\n",
    "print(\"The test set RMSE:\", round(RMSE_Test,2))"
   ]
  },
  {
   "cell_type": "markdown",
   "id": "2d52afb4",
   "metadata": {},
   "source": [
    "Based on the RMSE metric, our model seems to be generalizing well enough.\n",
    "\n",
    "Alternatively, we could check for accuracy using the model accuracy score that ranges from 0 - 1"
   ]
  },
  {
   "cell_type": "code",
   "execution_count": 246,
   "id": "f3772346",
   "metadata": {},
   "outputs": [
    {
     "name": "stdout",
     "output_type": "stream",
     "text": [
      "The model's accuracy score on the training set is 0.84\n",
      "The model's accuracy score on the test set is 0.81\n"
     ]
    }
   ],
   "source": [
    "print(\"The model's accuracy score on the training set is\", model_lr.score(X_train,y_train).round(2))\n",
    "print(\"The model's accuracy score on the test set is\", model_lr.score(X_test,y_test).round(2))"
   ]
  },
  {
   "cell_type": "markdown",
   "id": "bbea8fd7",
   "metadata": {},
   "source": [
    "The above implies that the model has an accuracy score of 84% on the training set, and 81% on the test set."
   ]
  },
  {
   "cell_type": "markdown",
   "id": "5fcd0699",
   "metadata": {},
   "source": [
    "#### Linear Regression Assumption Tests"
   ]
  },
  {
   "cell_type": "markdown",
   "id": "63811793",
   "metadata": {},
   "source": [
    "To ensure the model's reliabilty, we need to check that the linear regression assumptions are not violated..."
   ]
  },
  {
   "cell_type": "markdown",
   "id": "e75bca85",
   "metadata": {},
   "source": [
    "Before testing the assumption, the model would be retrained on the full dataset.\n"
   ]
  },
  {
   "cell_type": "code",
   "execution_count": 247,
   "id": "000aa0c2",
   "metadata": {},
   "outputs": [
    {
     "data": {
      "text/plain": [
       "Pipeline(steps=[('binaryencoder',\n",
       "                 BinaryEncoder(cols=['Smoke', 'Gender', 'Caesarean'],\n",
       "                               mapping=[{'col': 'Smoke',\n",
       "                                         'mapping':     Smoke_0  Smoke_1\n",
       " 1        0        1\n",
       " 2        1        0\n",
       "-1        0        0\n",
       "-2        0        0},\n",
       "                                        {'col': 'Gender',\n",
       "                                         'mapping':     Gender_0  Gender_1\n",
       " 1         0         1\n",
       " 2         1         0\n",
       "-1         0         0\n",
       "-2         0         0},\n",
       "                                        {'col': 'Caesarean',\n",
       "                                         'mapping':     Caesarean_0  Caesarean_1\n",
       " 1            0            1\n",
       " 2            1            0\n",
       "-1            0            0\n",
       "-2            0            0}])),\n",
       "                ('standardscaler', StandardScaler()),\n",
       "                ('linearregression', LinearRegression())])"
      ]
     },
     "execution_count": 247,
     "metadata": {},
     "output_type": "execute_result"
    }
   ],
   "source": [
    "# Build model via pipeline\n",
    "full_model = make_pipeline(\n",
    "            BinaryEncoder(),\n",
    "            StandardScaler(),\n",
    "            LinearRegression()\n",
    "                     )\n",
    "# Fit the model to the training set\n",
    "full_model.fit(X, y)\n"
   ]
  },
  {
   "cell_type": "code",
   "execution_count": 248,
   "id": "b1bd1840",
   "metadata": {},
   "outputs": [
    {
     "name": "stdout",
     "output_type": "stream",
     "text": [
      "The model's accuracy score is 0.84\n"
     ]
    }
   ],
   "source": [
    "print(\"The model's accuracy score is\", full_model.score(X,y).round(2))"
   ]
  },
  {
   "cell_type": "markdown",
   "id": "c8f61c45",
   "metadata": {},
   "source": [
    "##### Assumption 1: Linearity Assumption\n",
    "\n",
    "**Linearity:** Assumes that there is a linear relationship between the predictors and the response variable. If not, either a quadratic term or another algorithm should be used.\n",
    "   "
   ]
  },
  {
   "cell_type": "code",
   "execution_count": 219,
   "id": "29c9bcad",
   "metadata": {},
   "outputs": [],
   "source": [
    "\n",
    "def calculate_residuals(model, features, label):\n",
    "    \"\"\"\n",
    "    Creates predictions on the features with the model and calculates residuals\n",
    "    \"\"\"\n",
    "    predictions = model.predict(features)\n",
    "    df_results = pd.DataFrame({'Actual': label, 'Predicted': predictions})\n",
    "    df_results['Residuals'] = abs(df_results['Actual']) - abs(df_results['Predicted'])\n",
    "    \n",
    "    return df_results"
   ]
  },
  {
   "cell_type": "code",
   "execution_count": 220,
   "id": "76ef4fcd",
   "metadata": {},
   "outputs": [],
   "source": [
    "def linear_assumption(model, features, label):\n",
    "    \n",
    "    print('Assumption 1: Linear Relationship between the Target and the Feature', '\\n')\n",
    "        \n",
    "    print('Checking with a scatter plot of actual vs. predicted.',\n",
    "           'Predictions should follow the diagonal line.')\n",
    "    \n",
    "    # Calculating residuals for the plot\n",
    "    df_results = calculate_residuals(model, features, label)\n",
    "    \n",
    "    # Plotting the actual vs predicted values\n",
    "    sns.lmplot(x='Actual', y='Predicted', data=df_results, fit_reg=False, size=7)\n",
    "        \n",
    "    # Plotting the diagonal line\n",
    "    line_coords = np.arange(df_results.min().min(), df_results.max().max())\n",
    "    plt.plot(line_coords, line_coords,  # X and y points\n",
    "             color='darkorange', linestyle='--')\n",
    "    plt.title('Actual vs. Predicted')\n",
    "    plt.show()"
   ]
  },
  {
   "cell_type": "code",
   "execution_count": 221,
   "id": "87fa64ca",
   "metadata": {},
   "outputs": [
    {
     "name": "stdout",
     "output_type": "stream",
     "text": [
      "Assumption 1: Linear Relationship between the Target and the Feature \n",
      "\n",
      "Checking with a scatter plot of actual vs. predicted. Predictions should follow the diagonal line.\n"
     ]
    },
    {
     "data": {
      "image/png": "[encoded data removed]",
      "text/plain": [
       "<Figure size 504x504 with 1 Axes>"
      ]
     },
     "metadata": {
      "needs_background": "light"
     },
     "output_type": "display_data"
    }
   ],
   "source": [
    "linear_assumption(full_model, X, y)"
   ]
  },
  {
   "cell_type": "markdown",
   "id": "bd1f0820",
   "metadata": {},
   "source": [
    "Assumption satisfied."
   ]
  },
  {
   "cell_type": "markdown",
   "id": "0686ca7f",
   "metadata": {},
   "source": [
    "##### Assumption 2: Normality of the Error Terms\n",
    "\n",
    "**Normality:** Assumes that the error terms are normally distributed. If they are not, nonlinear transformations of variables may solve this. This assumption being violated primarily causes issues with the confidence intervals\n",
    "   "
   ]
  },
  {
   "cell_type": "code",
   "execution_count": 222,
   "id": "5e06a6bd",
   "metadata": {},
   "outputs": [],
   "source": [
    "def normal_errors_assumption(model, features, label, p_value_thresh=0.05):\n",
    "    \n",
    "    from statsmodels.stats.diagnostic import normal_ad\n",
    "    print('Assumption 2: The error terms are normally distributed', '\\n')\n",
    "    \n",
    "    # Calculating residuals for the Anderson-Darling test\n",
    "    df_results = calculate_residuals(model, features, label)\n",
    "    \n",
    "    print('Using the Anderson-Darling test for normal distribution')\n",
    "\n",
    "    # Performing the test on the residuals\n",
    "    p_value = normal_ad(df_results['Residuals'])[1]\n",
    "    print('p-value from the test - below 0.05 generally means non-normal:', p_value)\n",
    "    \n",
    "    # Reporting the normality of the residuals\n",
    "    if p_value < p_value_thresh:\n",
    "        print('Residuals are not normally distributed')\n",
    "    else:\n",
    "        print('Residuals are normally distributed')\n",
    "    \n",
    "    # Plotting the residuals distribution\n",
    "    plt.subplots(figsize=(12, 6))\n",
    "    plt.title('Distribution of Residuals')\n",
    "    sns.distplot(df_results['Residuals'])\n",
    "    plt.show()\n",
    "    \n",
    "    print()\n",
    "    if p_value > p_value_thresh:\n",
    "        print('Assumption satisfied.')\n",
    "    else:\n",
    "        print('Assumption not satisfied')\n",
    "        print()\n",
    "        print('Confidence intervals will likely be affected')\n",
    "        print('Try performing nonlinear transformations on variables')"
   ]
  },
  {
   "cell_type": "code",
   "execution_count": 223,
   "id": "0565d10c",
   "metadata": {},
   "outputs": [
    {
     "name": "stdout",
     "output_type": "stream",
     "text": [
      "Assumption 2: The error terms are normally distributed \n",
      "\n",
      "Using the Anderson-Darling test for normal distribution\n",
      "p-value from the test - below 0.05 generally means non-normal: 0.565581427947109\n",
      "Residuals are normally distributed\n"
     ]
    },
    {
     "data": {
      "image/png": "[encoded data removed]",
      "text/plain": [
       "<Figure size 864x432 with 1 Axes>"
      ]
     },
     "metadata": {
      "needs_background": "light"
     },
     "output_type": "display_data"
    },
    {
     "name": "stdout",
     "output_type": "stream",
     "text": [
      "\n",
      "Assumption satisfied.\n"
     ]
    }
   ],
   "source": [
    "normal_errors_assumption(full_model, X, y)"
   ]
  },
  {
   "cell_type": "markdown",
   "id": "9d01e90c",
   "metadata": {},
   "source": [
    "##### Assumption 3: No Multicollinearity among Predictors\n",
    "\n",
    "This assumption test would be skipped as it has already been checked and satisfied earlier on."
   ]
  },
  {
   "cell_type": "markdown",
   "id": "07f88c6b",
   "metadata": {},
   "source": [
    "##### Assumption 4: No Autocorrelation of the Error Terms\n",
    "\n",
    "**Autocorrelation:** Assumes that there is no autocorrelation in the residuals. If there is autocorrelation, then there is a pattern that is not explained due to the current value being dependent on the previous value. This may be resolved by adding a lag variable of either the dependent variable or some of the predictors.\n",
    "  "
   ]
  },
  {
   "cell_type": "code",
   "execution_count": 224,
   "id": "f1327861",
   "metadata": {},
   "outputs": [],
   "source": [
    "def autocorrelation_assumption(model, features, label):\n",
    "    from statsmodels.stats.stattools import durbin_watson\n",
    "    print('Assumption 4: No Autocorrelation', '\\n')\n",
    "    \n",
    "    # Calculating residuals for the Durbin Watson-tests\n",
    "    df_results = calculate_residuals(model, features, label)\n",
    "\n",
    "    print('\\nPerforming Durbin-Watson Test')\n",
    "    print('Values of 1.5 < d < 2.5 generally show that there is no autocorrelation in the data')\n",
    "    print('0 to 2< is positive autocorrelation')\n",
    "    print('>2 to 4 is negative autocorrelation')\n",
    "    print('-------------------------------------')\n",
    "    durbinWatson = durbin_watson(df_results['Residuals'])\n",
    "    print('Durbin-Watson:', durbinWatson)\n",
    "    if durbinWatson < 1.5:\n",
    "        print('Signs of positive autocorrelation', '\\n')\n",
    "        print('Assumption not satisfied')\n",
    "    elif durbinWatson > 2.5:\n",
    "        print('Signs of negative autocorrelation', '\\n')\n",
    "        print('Assumption not satisfied')\n",
    "    else:\n",
    "        print('Little to no autocorrelation', '\\n')\n",
    "        print('Assumption satisfied')"
   ]
  },
  {
   "cell_type": "code",
   "execution_count": 225,
   "id": "7a8b8962",
   "metadata": {},
   "outputs": [
    {
     "name": "stdout",
     "output_type": "stream",
     "text": [
      "Assumption 4: No Autocorrelation \n",
      "\n",
      "\n",
      "Performing Durbin-Watson Test\n",
      "Values of 1.5 < d < 2.5 generally show that there is no autocorrelation in the data\n",
      "0 to 2< is positive autocorrelation\n",
      ">2 to 4 is negative autocorrelation\n",
      "-------------------------------------\n",
      "Durbin-Watson: 1.9250423959793554\n",
      "Little to no autocorrelation \n",
      "\n",
      "Assumption satisfied\n"
     ]
    }
   ],
   "source": [
    "autocorrelation_assumption(full_model, X, y)"
   ]
  },
  {
   "cell_type": "markdown",
   "id": "6c7c105f",
   "metadata": {},
   "source": [
    "##### Assumption 5: Homoscedasticity\n",
    "\n",
    "**Homoscedasticity:** Assumes that the errors exhibit constant variance\n",
    "   "
   ]
  },
  {
   "cell_type": "code",
   "execution_count": 226,
   "id": "7b7d81a8",
   "metadata": {},
   "outputs": [],
   "source": [
    "def homoscedasticity_assumption(model, features, label):\n",
    "    \n",
    "    print('Assumption 5: Homoscedasticity of Error Terms', '\\n')\n",
    "    \n",
    "    print('Residuals should have relative constant variance')\n",
    "        \n",
    "    # Calculating residuals for the plot\n",
    "    df_results = calculate_residuals(model, features, label)\n",
    "\n",
    "    # Plotting the residuals\n",
    "    plt.subplots(figsize=(12, 6))\n",
    "    ax = plt.subplot(111)  # To remove spines\n",
    "    plt.scatter(x=df_results.index, y=df_results.Residuals, alpha=0.5)\n",
    "    plt.plot(np.repeat(0, df_results.index.max()), color='darkorange', linestyle='--')\n",
    "    ax.spines['right'].set_visible(False)  # Removing the right spine\n",
    "    ax.spines['top'].set_visible(False)  # Removing the top spine\n",
    "    plt.title('Residuals')\n",
    "    plt.show()  "
   ]
  },
  {
   "cell_type": "code",
   "execution_count": 227,
   "id": "1dc7741e",
   "metadata": {},
   "outputs": [
    {
     "name": "stdout",
     "output_type": "stream",
     "text": [
      "Assumption 5: Homoscedasticity of Error Terms \n",
      "\n",
      "Residuals should have relative constant variance\n"
     ]
    },
    {
     "data": {
      "image/png": "[encoded data removed]",
      "text/plain": [
       "<Figure size 864x432 with 1 Axes>"
      ]
     },
     "metadata": {
      "needs_background": "light"
     },
     "output_type": "display_data"
    }
   ],
   "source": [
    "homoscedasticity_assumption(full_model, X, y)"
   ]
  },
  {
   "cell_type": "markdown",
   "id": "4b17a0a5",
   "metadata": {},
   "source": [
    "Residuals appear to be uniformly distributed.\n",
    "\n",
    "Assumption satisfied."
   ]
  },
  {
   "cell_type": "markdown",
   "id": "8367d107",
   "metadata": {},
   "source": [
    "## 3. Communicate Result\n",
    "\n",
    "To get the full regression output summary, we will need the Statsmodels package."
   ]
  },
  {
   "cell_type": "code",
   "execution_count": 253,
   "id": "aaa16f80",
   "metadata": {},
   "outputs": [
    {
     "name": "stdout",
     "output_type": "stream",
     "text": [
      "                                 OLS Regression Results                                \n",
      "=======================================================================================\n",
      "Dep. Variable:            LungCap(CC)   R-squared (uncentered):                   0.838\n",
      "Model:                            OLS   Adj. R-squared (uncentered):              0.837\n",
      "Method:                 Least Squares   F-statistic:                              929.8\n",
      "Date:                Sun, 28 Aug 2022   Prob (F-statistic):                   1.22e-282\n",
      "Time:                        18:05:43   Log-Likelihood:                         -368.83\n",
      "No. Observations:                 724   AIC:                                      745.7\n",
      "Df Residuals:                     720   BIC:                                      764.0\n",
      "Df Model:                           4                                                  \n",
      "Covariance Type:            nonrobust                                                  \n",
      "==================================================================================\n",
      "                     coef    std err          t      P>|t|      [0.025      0.975]\n",
      "----------------------------------------------------------------------------------\n",
      "Height(Inches)     0.9193      0.015     60.260      0.000       0.889       0.949\n",
      "Smoke             -0.1889      0.048     -3.947      0.000      -0.283      -0.095\n",
      "Gender             0.0720      0.023      3.162      0.002       0.027       0.117\n",
      "Caesarean         -0.0717      0.034     -2.107      0.036      -0.138      -0.005\n",
      "==============================================================================\n",
      "Omnibus:                        1.311   Durbin-Watson:                   1.925\n",
      "Prob(Omnibus):                  0.519   Jarque-Bera (JB):                1.381\n",
      "Skew:                          -0.073   Prob(JB):                        0.501\n",
      "Kurtosis:                       2.843   Cond. No.                         3.25\n",
      "==============================================================================\n",
      "\n",
      "Notes:\n",
      "[1] R² is computed without centering (uncentered) since the model does not contain a constant.\n",
      "[2] Standard Errors assume that the covariance matrix of the errors is correctly specified.\n"
     ]
    }
   ],
   "source": [
    "df3 = df.copy() # Makes a copy of the original data to be retrained using StatsModels\n",
    "le = LabelEncoder() # Instantiates categorical label encoder\n",
    "ss = StandardScaler() # Instantiates standard scaler\n",
    "df3[\"Smoke\"] = le.fit_transform(df3[\"Smoke\"]) # Fits and Transforms the 'Smoke' feature to 1s (yes) and 0s (no)\n",
    "df3[\"Gender\"] = le.fit_transform(df3[\"Gender\"]) # Fits and Transforms the 'Gender' feature to 1s (male) and 0s (female)\n",
    "df3[\"Caesarean\"] = le.fit_transform(df3[\"Caesarean\"]) # Fits and Transforms the 'Caesarean' feature to 1s (yes) and 0s (no)\n",
    "\n",
    "df3[df_num] = ss.fit_transform(df3[df_num]) # Fits and Transforms the numerical features to standard z-scores to normalize them\n",
    "df3.drop(columns=\"Age(Years)\", inplace=True) # Drops the leaky feature\n",
    "\n",
    "# Split data in into target (or label) and features (or predictors)\n",
    "X1 = df3.drop(columns=target) \n",
    "y1 = df3[target]\n",
    "\n",
    "import statsmodels.api as sm # Imports the statsmodels package\n",
    "\n",
    "#fit linear regression model\n",
    "model = sm.OLS(y1, X1).fit()\n",
    "\n",
    "#view model summary\n",
    "print(model.summary())"
   ]
  },
  {
   "cell_type": "markdown",
   "id": "dfcedc9f",
   "metadata": {},
   "source": [
    "### In summary..."
   ]
  },
  {
   "cell_type": "markdown",
   "id": "b075075b",
   "metadata": {},
   "source": [
    "\n",
    "\n",
    "\n",
    "Standard multiple regression was conducted to determine the accuracy of the independent variables\n",
    "(the individual's age in years _[Age(Years)]_; the individual's height in inches _[Height(Inches)]_; whether the person smokes or not _[Smoke]_;\n",
    "the individual's sex _[Gender]_; and whether the individual was born via Caesarean or not _[Caesarean]_) predicting the individual's lung capacity _[LungCap (CC)]_. Data screening and exploration led to the elimination of a case (a percieved outlier) and a feature - _[Age(Years)]_ (multicollinearity issue). The model was built via a pipeline, which first feeds the categorical features (_[Smoke]_, _[Gender]_, and _[Caesarean]_)  into a binary encoder that converts the _'Yes'_ and _'No'_ into 1s and 0s, and then every other feature in to standard scaler, and then finally into the instantiated regression model . Regression results indicate that the overall model significantly predicts lung capacity [R2 = 0.838, R2\n",
    "adj = 0.837, F(4, 720) = 929.8, p < .001]. This model accounts for 83.8% of\n",
    "variance in lung capacity. A summary of regression coefficients is presented in the table below and\n",
    "indicates that all four features (_Height(Inches)_, _Smoke_, _Gender_, and _Caesarean_) entered into the model significantly contributed\n",
    "to the model."
   ]
  },
  {
   "cell_type": "markdown",
   "id": "80c79929",
   "metadata": {},
   "source": [
    "<table ><tr><th> <th><th> coef <th><th> std err <th><th> t <th><th> p-value <th><th> [0.025 <th><th> 0.975] <tr><tr>\n",
    "<tr><td> Height(Inches) <td><td> 0.9193 <td><td> 0.015 <td><td> 60.260 <td><td> 0.000 <td><td> 0.000 <td><td> 0.949 <td><tr><tr><td> Smoke <td><td> -0.1889 <td><td> 0.048  <td><td> -3.947 <td><td> 0.000 <td><td>  -0.283 <td><td>  -0.283 <td><tr><tr><td> Gender <td><td> 0.0720 <td><td> 0.023 <td><td> 3.162 <td><td> 0.002 <td><td> 0.027<td><td> 0.117 <td><tr>\n",
    "<tr><td> Caesarean <td><td> -0.0717 <td><td> 0.034 <td><td> -2.107 <td><td> 0.036 <td><td> -0.138 <td><td> -0.005 <td><tr><table>"
   ]
  },
  {
   "cell_type": "markdown",
   "id": "420a0c47",
   "metadata": {},
   "source": [
    "### References\n",
    "\n",
    "- _Anscombe's quartet_ (2022). Retrieved August 28, 2022, from https://en.wikipedia.org/wiki/Anscombe%27s_quartet\n",
    "- Delgado and Bajaj (2021). _Physiology of Lung Capacity._ Retrieved August 28, 2022, from https://www.ncbi.nlm.nih.gov/books/NBK541029/#:~:text=Lung%20capacity%20or%20total%20lung,of%20lung%20capacity%20among%20individuals.\n",
    "- Denis, D. J. (2015). _Applied univariate, bivariate, and multivariate statistics._ John Wiley & Sons.\n",
    "- Macaluso, J. (2018). _Testing Linear Regression Assumptions in Python._ Retrieved August 28, 2022, from https://jeffmacaluso.github.io/post/LinearRegressionAssumptions/\n",
    "- _Multicollinearity_ (2022). Retrieved August 28, 2022, from https://en.wikipedia.org/wiki/Multicollinearity\n"
   ]
  },
  {
   "cell_type": "markdown",
   "id": "41db0851",
   "metadata": {},
   "source": [
    "#### Mustapha, M. K.\n",
    "LinkedIn: [Kola Mustapha](https://www.linkedin.com/in/kola-mustapha-27037856/)\n",
    "\n",
    "Email: mustapha.mk@outlook.com"
   ]
  },
  {
   "cell_type": "markdown",
   "id": "ff257728",
   "metadata": {},
   "source": [
    "Thanks for reading."
   ]
  }
 ],
 "metadata": {
  "kernelspec": {
   "display_name": "Python 3 (ipykernel)",
   "language": "python",
   "name": "python3"
  },
  "language_info": {
   "codemirror_mode": {
    "name": "ipython",
    "version": 3
   },
   "file_extension": ".py",
   "mimetype": "text/x-python",
   "name": "python",
   "nbconvert_exporter": "python",
   "pygments_lexer": "ipython3",
   "version": "3.9.7"
  }
 },
 "nbformat": 4,
 "nbformat_minor": 5
}
