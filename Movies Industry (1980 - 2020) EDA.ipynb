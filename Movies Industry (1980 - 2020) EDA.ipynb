{
 "cells": [
  {
   "cell_type": "markdown",
   "id": "05f1b3f2",
   "metadata": {},
   "source": [
    "# The Movie Industry (1980 - 2020) Performance Analytics "
   ]
  },
  {
   "cell_type": "code",
   "execution_count": 2,
   "id": "e113cd6a",
   "metadata": {},
   "outputs": [],
   "source": [
    "# Import Libraries\n",
    "\n",
    "import numpy as np\n",
    "import pandas as pd\n",
    "import seaborn as sns\n",
    "\n",
    "import matplotlib\n",
    "import matplotlib.pyplot as plt\n",
    "plt.style.use('ggplot')\n",
    "from matplotlib.pyplot import figure\n",
    "\n",
    "%matplotlib inline\n",
    "matplotlib.rcParams['figure.figsize'] = (12,8) #To adjust the configuration of the plots"
   ]
  },
  {
   "cell_type": "markdown",
   "id": "51259c89",
   "metadata": {},
   "source": [
    "# Import Data"
   ]
  },
  {
   "cell_type": "markdown",
   "id": "02cf3834",
   "metadata": {},
   "source": [
    "Data downloaded from [Kaggle.](https://www.kaggle.com/datasets/danielgrijalvas/movies)"
   ]
  },
  {
   "cell_type": "code",
   "execution_count": 3,
   "id": "96495698",
   "metadata": {},
   "outputs": [
    {
     "name": "stdout",
     "output_type": "stream",
     "text": [
      "The shape of the DataFrame is: (7668, 15)\n",
      "\n"
     ]
    },
    {
     "data": {
      "text/html": [
       "<div>\n",
       "<style scoped>\n",
       "    .dataframe tbody tr th:only-of-type {\n",
       "        vertical-align: middle;\n",
       "    }\n",
       "\n",
       "    .dataframe tbody tr th {\n",
       "        vertical-align: top;\n",
       "    }\n",
       "\n",
       "    .dataframe thead th {\n",
       "        text-align: right;\n",
       "    }\n",
       "</style>\n",
       "<table border=\"1\" class=\"dataframe\">\n",
       "  <thead>\n",
       "    <tr style=\"text-align: right;\">\n",
       "      <th></th>\n",
       "      <th>name</th>\n",
       "      <th>rating</th>\n",
       "      <th>genre</th>\n",
       "      <th>year</th>\n",
       "      <th>released</th>\n",
       "      <th>score</th>\n",
       "      <th>votes</th>\n",
       "      <th>director</th>\n",
       "      <th>writer</th>\n",
       "      <th>star</th>\n",
       "      <th>country</th>\n",
       "      <th>budget</th>\n",
       "      <th>gross</th>\n",
       "      <th>company</th>\n",
       "      <th>runtime</th>\n",
       "    </tr>\n",
       "  </thead>\n",
       "  <tbody>\n",
       "    <tr>\n",
       "      <th>0</th>\n",
       "      <td>The Shining</td>\n",
       "      <td>R</td>\n",
       "      <td>Drama</td>\n",
       "      <td>1980</td>\n",
       "      <td>June 13, 1980 (United States)</td>\n",
       "      <td>8.4</td>\n",
       "      <td>927000.0</td>\n",
       "      <td>Stanley Kubrick</td>\n",
       "      <td>Stephen King</td>\n",
       "      <td>Jack Nicholson</td>\n",
       "      <td>United Kingdom</td>\n",
       "      <td>19000000.0</td>\n",
       "      <td>46998772.0</td>\n",
       "      <td>Warner Bros.</td>\n",
       "      <td>146.0</td>\n",
       "    </tr>\n",
       "    <tr>\n",
       "      <th>1</th>\n",
       "      <td>The Blue Lagoon</td>\n",
       "      <td>R</td>\n",
       "      <td>Adventure</td>\n",
       "      <td>1980</td>\n",
       "      <td>July 2, 1980 (United States)</td>\n",
       "      <td>5.8</td>\n",
       "      <td>65000.0</td>\n",
       "      <td>Randal Kleiser</td>\n",
       "      <td>Henry De Vere Stacpoole</td>\n",
       "      <td>Brooke Shields</td>\n",
       "      <td>United States</td>\n",
       "      <td>4500000.0</td>\n",
       "      <td>58853106.0</td>\n",
       "      <td>Columbia Pictures</td>\n",
       "      <td>104.0</td>\n",
       "    </tr>\n",
       "    <tr>\n",
       "      <th>2</th>\n",
       "      <td>Star Wars: Episode V - The Empire Strikes Back</td>\n",
       "      <td>PG</td>\n",
       "      <td>Action</td>\n",
       "      <td>1980</td>\n",
       "      <td>June 20, 1980 (United States)</td>\n",
       "      <td>8.7</td>\n",
       "      <td>1200000.0</td>\n",
       "      <td>Irvin Kershner</td>\n",
       "      <td>Leigh Brackett</td>\n",
       "      <td>Mark Hamill</td>\n",
       "      <td>United States</td>\n",
       "      <td>18000000.0</td>\n",
       "      <td>538375067.0</td>\n",
       "      <td>Lucasfilm</td>\n",
       "      <td>124.0</td>\n",
       "    </tr>\n",
       "    <tr>\n",
       "      <th>3</th>\n",
       "      <td>Airplane!</td>\n",
       "      <td>PG</td>\n",
       "      <td>Comedy</td>\n",
       "      <td>1980</td>\n",
       "      <td>July 2, 1980 (United States)</td>\n",
       "      <td>7.7</td>\n",
       "      <td>221000.0</td>\n",
       "      <td>Jim Abrahams</td>\n",
       "      <td>Jim Abrahams</td>\n",
       "      <td>Robert Hays</td>\n",
       "      <td>United States</td>\n",
       "      <td>3500000.0</td>\n",
       "      <td>83453539.0</td>\n",
       "      <td>Paramount Pictures</td>\n",
       "      <td>88.0</td>\n",
       "    </tr>\n",
       "    <tr>\n",
       "      <th>4</th>\n",
       "      <td>Caddyshack</td>\n",
       "      <td>R</td>\n",
       "      <td>Comedy</td>\n",
       "      <td>1980</td>\n",
       "      <td>July 25, 1980 (United States)</td>\n",
       "      <td>7.3</td>\n",
       "      <td>108000.0</td>\n",
       "      <td>Harold Ramis</td>\n",
       "      <td>Brian Doyle-Murray</td>\n",
       "      <td>Chevy Chase</td>\n",
       "      <td>United States</td>\n",
       "      <td>6000000.0</td>\n",
       "      <td>39846344.0</td>\n",
       "      <td>Orion Pictures</td>\n",
       "      <td>98.0</td>\n",
       "    </tr>\n",
       "  </tbody>\n",
       "</table>\n",
       "</div>"
      ],
      "text/plain": [
       "                                             name rating      genre  year  \\\n",
       "0                                     The Shining      R      Drama  1980   \n",
       "1                                 The Blue Lagoon      R  Adventure  1980   \n",
       "2  Star Wars: Episode V - The Empire Strikes Back     PG     Action  1980   \n",
       "3                                       Airplane!     PG     Comedy  1980   \n",
       "4                                      Caddyshack      R     Comedy  1980   \n",
       "\n",
       "                        released  score      votes         director  \\\n",
       "0  June 13, 1980 (United States)    8.4   927000.0  Stanley Kubrick   \n",
       "1   July 2, 1980 (United States)    5.8    65000.0   Randal Kleiser   \n",
       "2  June 20, 1980 (United States)    8.7  1200000.0   Irvin Kershner   \n",
       "3   July 2, 1980 (United States)    7.7   221000.0     Jim Abrahams   \n",
       "4  July 25, 1980 (United States)    7.3   108000.0     Harold Ramis   \n",
       "\n",
       "                    writer            star         country      budget  \\\n",
       "0             Stephen King  Jack Nicholson  United Kingdom  19000000.0   \n",
       "1  Henry De Vere Stacpoole  Brooke Shields   United States   4500000.0   \n",
       "2           Leigh Brackett     Mark Hamill   United States  18000000.0   \n",
       "3             Jim Abrahams     Robert Hays   United States   3500000.0   \n",
       "4       Brian Doyle-Murray     Chevy Chase   United States   6000000.0   \n",
       "\n",
       "         gross             company  runtime  \n",
       "0   46998772.0        Warner Bros.    146.0  \n",
       "1   58853106.0   Columbia Pictures    104.0  \n",
       "2  538375067.0           Lucasfilm    124.0  \n",
       "3   83453539.0  Paramount Pictures     88.0  \n",
       "4   39846344.0      Orion Pictures     98.0  "
      ]
     },
     "execution_count": 3,
     "metadata": {},
     "output_type": "execute_result"
    }
   ],
   "source": [
    "# Read in the data as a DataFrame\n",
    "df = pd.read_csv(r\"C:\\Users\\HP\\Downloads\\CSVs\\movies.csv\")\n",
    "\n",
    "# Check shape and column info of data\n",
    "print(\"The shape of the DataFrame is:\", df.shape)\n",
    "print()\n",
    "\n",
    "# Take a look at the first 5 rows of the data\n",
    "df.head()"
   ]
  },
  {
   "cell_type": "markdown",
   "id": "e9f0e094",
   "metadata": {},
   "source": [
    "# Data Cleaning"
   ]
  },
  {
   "cell_type": "markdown",
   "id": "5de30240",
   "metadata": {},
   "source": [
    "### Missing data"
   ]
  },
  {
   "cell_type": "markdown",
   "id": "535d7445",
   "metadata": {},
   "source": [
    "_Checking the number (and percentage) of missing values per column..._"
   ]
  },
  {
   "cell_type": "code",
   "execution_count": 21,
   "id": "d2c85334",
   "metadata": {},
   "outputs": [
    {
     "name": "stdout",
     "output_type": "stream",
     "text": [
      "name: 0 (0.0%)\n",
      "rating: 77 (1.0%)\n",
      "genre: 0 (0.0%)\n",
      "year: 0 (0.0%)\n",
      "released: 2 (0.03%)\n",
      "score: 3 (0.04%)\n",
      "votes: 3 (0.04%)\n",
      "director: 0 (0.0%)\n",
      "writer: 3 (0.04%)\n",
      "star: 1 (0.01%)\n",
      "country: 3 (0.04%)\n",
      "budget: 2171 (28.31%)\n",
      "gross: 189 (2.46%)\n",
      "company: 17 (0.22%)\n",
      "runtime: 4 (0.05%)\n"
     ]
    }
   ],
   "source": [
    "for col in df.columns:\n",
    "    n_missing = df[col].isnull().sum() # Returns the number of missing values per column\n",
    "    percent_missing = round(np.mean(df[col].isnull())*100,2) # Returns the percentage of missing values per column rounded to 2 d.p\n",
    "    print(f'{col}: {n_missing} ({percent_missing}%)')"
   ]
  },
  {
   "cell_type": "markdown",
   "id": "0bc00202",
   "metadata": {},
   "source": [
    "Since the dataset contains fairly large amount of missing values, we will need to remove the missing value entries from the dataset"
   ]
  },
  {
   "cell_type": "code",
   "execution_count": 4,
   "id": "5a18363f",
   "metadata": {},
   "outputs": [
    {
     "name": "stdout",
     "output_type": "stream",
     "text": [
      "The shape of the DataFrame after dropping the null values:  (5421, 15)\n"
     ]
    }
   ],
   "source": [
    "df = df.dropna()\n",
    "print(\"The shape of the DataFrame after dropping the null values: \", df.shape)"
   ]
  },
  {
   "cell_type": "markdown",
   "id": "7098e19c",
   "metadata": {},
   "source": [
    "_Rechecking each columns for missing values..._"
   ]
  },
  {
   "cell_type": "code",
   "execution_count": 40,
   "id": "0bd73f9e",
   "metadata": {},
   "outputs": [
    {
     "name": "stdout",
     "output_type": "stream",
     "text": [
      "name: 0 (0.0%)\n",
      "rating: 0 (0.0%)\n",
      "genre: 0 (0.0%)\n",
      "year: 0 (0.0%)\n",
      "released: 0 (0.0%)\n",
      "score: 0 (0.0%)\n",
      "votes: 0 (0.0%)\n",
      "director: 0 (0.0%)\n",
      "writer: 0 (0.0%)\n",
      "star: 0 (0.0%)\n",
      "country: 0 (0.0%)\n",
      "budget: 0 (0.0%)\n",
      "gross: 0 (0.0%)\n",
      "company: 0 (0.0%)\n",
      "runtime: 0 (0.0%)\n"
     ]
    }
   ],
   "source": [
    "for col in df.columns:\n",
    "    n_missing = df[col].isnull().sum() # Returns the number of missing values per column\n",
    "    percent_missing = round(np.mean(df[col].isnull())*100,2) # Returns the percentage of missing values per column rounded to 2 d.p\n",
    "    print(f'{col}: {n_missing} ({percent_missing}%)')"
   ]
  },
  {
   "cell_type": "markdown",
   "id": "73e1b178",
   "metadata": {},
   "source": [
    "### Changing datatypes to a more convenient fit"
   ]
  },
  {
   "cell_type": "code",
   "execution_count": 5,
   "id": "e4fb5ef6",
   "metadata": {},
   "outputs": [
    {
     "data": {
      "text/plain": [
       "name         object\n",
       "rating       object\n",
       "genre        object\n",
       "year          int64\n",
       "released     object\n",
       "score       float64\n",
       "votes       float64\n",
       "director     object\n",
       "writer       object\n",
       "star         object\n",
       "country      object\n",
       "budget      float64\n",
       "gross       float64\n",
       "company      object\n",
       "runtime     float64\n",
       "dtype: object"
      ]
     },
     "execution_count": 5,
     "metadata": {},
     "output_type": "execute_result"
    }
   ],
   "source": [
    "df.dtypes"
   ]
  },
  {
   "cell_type": "markdown",
   "id": "1d17dc51",
   "metadata": {},
   "source": [
    "_Converting 'votes', 'budget', 'gross', and 'runtime' to integers..._"
   ]
  },
  {
   "cell_type": "code",
   "execution_count": 6,
   "id": "ba0e09c2",
   "metadata": {},
   "outputs": [
    {
     "data": {
      "text/html": [
       "<div>\n",
       "<style scoped>\n",
       "    .dataframe tbody tr th:only-of-type {\n",
       "        vertical-align: middle;\n",
       "    }\n",
       "\n",
       "    .dataframe tbody tr th {\n",
       "        vertical-align: top;\n",
       "    }\n",
       "\n",
       "    .dataframe thead th {\n",
       "        text-align: right;\n",
       "    }\n",
       "</style>\n",
       "<table border=\"1\" class=\"dataframe\">\n",
       "  <thead>\n",
       "    <tr style=\"text-align: right;\">\n",
       "      <th></th>\n",
       "      <th>name</th>\n",
       "      <th>rating</th>\n",
       "      <th>genre</th>\n",
       "      <th>year</th>\n",
       "      <th>released</th>\n",
       "      <th>score</th>\n",
       "      <th>votes</th>\n",
       "      <th>director</th>\n",
       "      <th>writer</th>\n",
       "      <th>star</th>\n",
       "      <th>country</th>\n",
       "      <th>budget</th>\n",
       "      <th>gross</th>\n",
       "      <th>company</th>\n",
       "      <th>runtime</th>\n",
       "    </tr>\n",
       "  </thead>\n",
       "  <tbody>\n",
       "    <tr>\n",
       "      <th>0</th>\n",
       "      <td>The Shining</td>\n",
       "      <td>R</td>\n",
       "      <td>Drama</td>\n",
       "      <td>1980</td>\n",
       "      <td>June 13, 1980 (United States)</td>\n",
       "      <td>8.4</td>\n",
       "      <td>927000</td>\n",
       "      <td>Stanley Kubrick</td>\n",
       "      <td>Stephen King</td>\n",
       "      <td>Jack Nicholson</td>\n",
       "      <td>United Kingdom</td>\n",
       "      <td>19000000</td>\n",
       "      <td>46998772</td>\n",
       "      <td>Warner Bros.</td>\n",
       "      <td>146</td>\n",
       "    </tr>\n",
       "    <tr>\n",
       "      <th>1</th>\n",
       "      <td>The Blue Lagoon</td>\n",
       "      <td>R</td>\n",
       "      <td>Adventure</td>\n",
       "      <td>1980</td>\n",
       "      <td>July 2, 1980 (United States)</td>\n",
       "      <td>5.8</td>\n",
       "      <td>65000</td>\n",
       "      <td>Randal Kleiser</td>\n",
       "      <td>Henry De Vere Stacpoole</td>\n",
       "      <td>Brooke Shields</td>\n",
       "      <td>United States</td>\n",
       "      <td>4500000</td>\n",
       "      <td>58853106</td>\n",
       "      <td>Columbia Pictures</td>\n",
       "      <td>104</td>\n",
       "    </tr>\n",
       "    <tr>\n",
       "      <th>2</th>\n",
       "      <td>Star Wars: Episode V - The Empire Strikes Back</td>\n",
       "      <td>PG</td>\n",
       "      <td>Action</td>\n",
       "      <td>1980</td>\n",
       "      <td>June 20, 1980 (United States)</td>\n",
       "      <td>8.7</td>\n",
       "      <td>1200000</td>\n",
       "      <td>Irvin Kershner</td>\n",
       "      <td>Leigh Brackett</td>\n",
       "      <td>Mark Hamill</td>\n",
       "      <td>United States</td>\n",
       "      <td>18000000</td>\n",
       "      <td>538375067</td>\n",
       "      <td>Lucasfilm</td>\n",
       "      <td>124</td>\n",
       "    </tr>\n",
       "    <tr>\n",
       "      <th>3</th>\n",
       "      <td>Airplane!</td>\n",
       "      <td>PG</td>\n",
       "      <td>Comedy</td>\n",
       "      <td>1980</td>\n",
       "      <td>July 2, 1980 (United States)</td>\n",
       "      <td>7.7</td>\n",
       "      <td>221000</td>\n",
       "      <td>Jim Abrahams</td>\n",
       "      <td>Jim Abrahams</td>\n",
       "      <td>Robert Hays</td>\n",
       "      <td>United States</td>\n",
       "      <td>3500000</td>\n",
       "      <td>83453539</td>\n",
       "      <td>Paramount Pictures</td>\n",
       "      <td>88</td>\n",
       "    </tr>\n",
       "    <tr>\n",
       "      <th>4</th>\n",
       "      <td>Caddyshack</td>\n",
       "      <td>R</td>\n",
       "      <td>Comedy</td>\n",
       "      <td>1980</td>\n",
       "      <td>July 25, 1980 (United States)</td>\n",
       "      <td>7.3</td>\n",
       "      <td>108000</td>\n",
       "      <td>Harold Ramis</td>\n",
       "      <td>Brian Doyle-Murray</td>\n",
       "      <td>Chevy Chase</td>\n",
       "      <td>United States</td>\n",
       "      <td>6000000</td>\n",
       "      <td>39846344</td>\n",
       "      <td>Orion Pictures</td>\n",
       "      <td>98</td>\n",
       "    </tr>\n",
       "  </tbody>\n",
       "</table>\n",
       "</div>"
      ],
      "text/plain": [
       "                                             name rating      genre  year  \\\n",
       "0                                     The Shining      R      Drama  1980   \n",
       "1                                 The Blue Lagoon      R  Adventure  1980   \n",
       "2  Star Wars: Episode V - The Empire Strikes Back     PG     Action  1980   \n",
       "3                                       Airplane!     PG     Comedy  1980   \n",
       "4                                      Caddyshack      R     Comedy  1980   \n",
       "\n",
       "                        released  score    votes         director  \\\n",
       "0  June 13, 1980 (United States)    8.4   927000  Stanley Kubrick   \n",
       "1   July 2, 1980 (United States)    5.8    65000   Randal Kleiser   \n",
       "2  June 20, 1980 (United States)    8.7  1200000   Irvin Kershner   \n",
       "3   July 2, 1980 (United States)    7.7   221000     Jim Abrahams   \n",
       "4  July 25, 1980 (United States)    7.3   108000     Harold Ramis   \n",
       "\n",
       "                    writer            star         country    budget  \\\n",
       "0             Stephen King  Jack Nicholson  United Kingdom  19000000   \n",
       "1  Henry De Vere Stacpoole  Brooke Shields   United States   4500000   \n",
       "2           Leigh Brackett     Mark Hamill   United States  18000000   \n",
       "3             Jim Abrahams     Robert Hays   United States   3500000   \n",
       "4       Brian Doyle-Murray     Chevy Chase   United States   6000000   \n",
       "\n",
       "       gross             company  runtime  \n",
       "0   46998772        Warner Bros.      146  \n",
       "1   58853106   Columbia Pictures      104  \n",
       "2  538375067           Lucasfilm      124  \n",
       "3   83453539  Paramount Pictures       88  \n",
       "4   39846344      Orion Pictures       98  "
      ]
     },
     "execution_count": 6,
     "metadata": {},
     "output_type": "execute_result"
    }
   ],
   "source": [
    "df['votes'] = df['votes'].astype('int64')\n",
    "df['budget'] = df['budget'].astype('int64')\n",
    "df['gross'] = df['gross'].astype('int64')\n",
    "df['runtime'] = df['runtime'].astype('int64')\n",
    "df.head()"
   ]
  },
  {
   "cell_type": "markdown",
   "id": "9519add8",
   "metadata": {},
   "source": [
    "_Extracting the release year from the 'released' column, to check whether the year in the 'year' and 'released' columns are one and same..._"
   ]
  },
  {
   "cell_type": "code",
   "execution_count": 7,
   "id": "645b00b9",
   "metadata": {},
   "outputs": [
    {
     "data": {
      "text/html": [
       "<div>\n",
       "<style scoped>\n",
       "    .dataframe tbody tr th:only-of-type {\n",
       "        vertical-align: middle;\n",
       "    }\n",
       "\n",
       "    .dataframe tbody tr th {\n",
       "        vertical-align: top;\n",
       "    }\n",
       "\n",
       "    .dataframe thead th {\n",
       "        text-align: right;\n",
       "    }\n",
       "</style>\n",
       "<table border=\"1\" class=\"dataframe\">\n",
       "  <thead>\n",
       "    <tr style=\"text-align: right;\">\n",
       "      <th></th>\n",
       "      <th>name</th>\n",
       "      <th>rating</th>\n",
       "      <th>genre</th>\n",
       "      <th>year</th>\n",
       "      <th>released</th>\n",
       "      <th>score</th>\n",
       "      <th>votes</th>\n",
       "      <th>director</th>\n",
       "      <th>writer</th>\n",
       "      <th>star</th>\n",
       "      <th>country</th>\n",
       "      <th>budget</th>\n",
       "      <th>gross</th>\n",
       "      <th>company</th>\n",
       "      <th>runtime</th>\n",
       "      <th>release_year</th>\n",
       "    </tr>\n",
       "  </thead>\n",
       "  <tbody>\n",
       "    <tr>\n",
       "      <th>0</th>\n",
       "      <td>The Shining</td>\n",
       "      <td>R</td>\n",
       "      <td>Drama</td>\n",
       "      <td>1980</td>\n",
       "      <td>June 13, 1980 (United States)</td>\n",
       "      <td>8.4</td>\n",
       "      <td>927000</td>\n",
       "      <td>Stanley Kubrick</td>\n",
       "      <td>Stephen King</td>\n",
       "      <td>Jack Nicholson</td>\n",
       "      <td>United Kingdom</td>\n",
       "      <td>19000000</td>\n",
       "      <td>46998772</td>\n",
       "      <td>Warner Bros.</td>\n",
       "      <td>146</td>\n",
       "      <td>1980</td>\n",
       "    </tr>\n",
       "    <tr>\n",
       "      <th>1</th>\n",
       "      <td>The Blue Lagoon</td>\n",
       "      <td>R</td>\n",
       "      <td>Adventure</td>\n",
       "      <td>1980</td>\n",
       "      <td>July 2, 1980 (United States)</td>\n",
       "      <td>5.8</td>\n",
       "      <td>65000</td>\n",
       "      <td>Randal Kleiser</td>\n",
       "      <td>Henry De Vere Stacpoole</td>\n",
       "      <td>Brooke Shields</td>\n",
       "      <td>United States</td>\n",
       "      <td>4500000</td>\n",
       "      <td>58853106</td>\n",
       "      <td>Columbia Pictures</td>\n",
       "      <td>104</td>\n",
       "      <td>1980</td>\n",
       "    </tr>\n",
       "    <tr>\n",
       "      <th>2</th>\n",
       "      <td>Star Wars: Episode V - The Empire Strikes Back</td>\n",
       "      <td>PG</td>\n",
       "      <td>Action</td>\n",
       "      <td>1980</td>\n",
       "      <td>June 20, 1980 (United States)</td>\n",
       "      <td>8.7</td>\n",
       "      <td>1200000</td>\n",
       "      <td>Irvin Kershner</td>\n",
       "      <td>Leigh Brackett</td>\n",
       "      <td>Mark Hamill</td>\n",
       "      <td>United States</td>\n",
       "      <td>18000000</td>\n",
       "      <td>538375067</td>\n",
       "      <td>Lucasfilm</td>\n",
       "      <td>124</td>\n",
       "      <td>1980</td>\n",
       "    </tr>\n",
       "    <tr>\n",
       "      <th>3</th>\n",
       "      <td>Airplane!</td>\n",
       "      <td>PG</td>\n",
       "      <td>Comedy</td>\n",
       "      <td>1980</td>\n",
       "      <td>July 2, 1980 (United States)</td>\n",
       "      <td>7.7</td>\n",
       "      <td>221000</td>\n",
       "      <td>Jim Abrahams</td>\n",
       "      <td>Jim Abrahams</td>\n",
       "      <td>Robert Hays</td>\n",
       "      <td>United States</td>\n",
       "      <td>3500000</td>\n",
       "      <td>83453539</td>\n",
       "      <td>Paramount Pictures</td>\n",
       "      <td>88</td>\n",
       "      <td>1980</td>\n",
       "    </tr>\n",
       "    <tr>\n",
       "      <th>4</th>\n",
       "      <td>Caddyshack</td>\n",
       "      <td>R</td>\n",
       "      <td>Comedy</td>\n",
       "      <td>1980</td>\n",
       "      <td>July 25, 1980 (United States)</td>\n",
       "      <td>7.3</td>\n",
       "      <td>108000</td>\n",
       "      <td>Harold Ramis</td>\n",
       "      <td>Brian Doyle-Murray</td>\n",
       "      <td>Chevy Chase</td>\n",
       "      <td>United States</td>\n",
       "      <td>6000000</td>\n",
       "      <td>39846344</td>\n",
       "      <td>Orion Pictures</td>\n",
       "      <td>98</td>\n",
       "      <td>1980</td>\n",
       "    </tr>\n",
       "  </tbody>\n",
       "</table>\n",
       "</div>"
      ],
      "text/plain": [
       "                                             name rating      genre  year  \\\n",
       "0                                     The Shining      R      Drama  1980   \n",
       "1                                 The Blue Lagoon      R  Adventure  1980   \n",
       "2  Star Wars: Episode V - The Empire Strikes Back     PG     Action  1980   \n",
       "3                                       Airplane!     PG     Comedy  1980   \n",
       "4                                      Caddyshack      R     Comedy  1980   \n",
       "\n",
       "                        released  score    votes         director  \\\n",
       "0  June 13, 1980 (United States)    8.4   927000  Stanley Kubrick   \n",
       "1   July 2, 1980 (United States)    5.8    65000   Randal Kleiser   \n",
       "2  June 20, 1980 (United States)    8.7  1200000   Irvin Kershner   \n",
       "3   July 2, 1980 (United States)    7.7   221000     Jim Abrahams   \n",
       "4  July 25, 1980 (United States)    7.3   108000     Harold Ramis   \n",
       "\n",
       "                    writer            star         country    budget  \\\n",
       "0             Stephen King  Jack Nicholson  United Kingdom  19000000   \n",
       "1  Henry De Vere Stacpoole  Brooke Shields   United States   4500000   \n",
       "2           Leigh Brackett     Mark Hamill   United States  18000000   \n",
       "3             Jim Abrahams     Robert Hays   United States   3500000   \n",
       "4       Brian Doyle-Murray     Chevy Chase   United States   6000000   \n",
       "\n",
       "       gross             company  runtime  release_year  \n",
       "0   46998772        Warner Bros.      146          1980  \n",
       "1   58853106   Columbia Pictures      104          1980  \n",
       "2  538375067           Lucasfilm      124          1980  \n",
       "3   83453539  Paramount Pictures       88          1980  \n",
       "4   39846344      Orion Pictures       98          1980  "
      ]
     },
     "execution_count": 7,
     "metadata": {},
     "output_type": "execute_result"
    }
   ],
   "source": [
    "# Extract and create 'release_year' column\n",
    "df['release_year'] = df['released'].str.extract(pat = '([0-9]{4})').astype(int)\n",
    "df.head()"
   ]
  },
  {
   "cell_type": "code",
   "execution_count": 8,
   "id": "d1ac41c2",
   "metadata": {},
   "outputs": [
    {
     "name": "stdout",
     "output_type": "stream",
     "text": [
      "0.9987260944744509\n",
      "There is a slight difference between the year values in both columns\n"
     ]
    }
   ],
   "source": [
    "# To check if 'year' and 'release_year' columns are one and same\n",
    "corr = df.release_year.corr(df['year'])\n",
    "print(corr)\n",
    "if corr == 1:\n",
    "    print(\"Both columns are one and same\")\n",
    "else:\n",
    "    print(\"There is a slight difference between the year values in both columns\")"
   ]
  },
  {
   "cell_type": "markdown",
   "id": "b12211da",
   "metadata": {},
   "source": [
    "_Deleting the 'year' and 'released' columns, leaving only the extracted 'release_year' column..._"
   ]
  },
  {
   "cell_type": "code",
   "execution_count": 9,
   "id": "2d5b4a54",
   "metadata": {},
   "outputs": [
    {
     "data": {
      "text/html": [
       "<div>\n",
       "<style scoped>\n",
       "    .dataframe tbody tr th:only-of-type {\n",
       "        vertical-align: middle;\n",
       "    }\n",
       "\n",
       "    .dataframe tbody tr th {\n",
       "        vertical-align: top;\n",
       "    }\n",
       "\n",
       "    .dataframe thead th {\n",
       "        text-align: right;\n",
       "    }\n",
       "</style>\n",
       "<table border=\"1\" class=\"dataframe\">\n",
       "  <thead>\n",
       "    <tr style=\"text-align: right;\">\n",
       "      <th></th>\n",
       "      <th>name</th>\n",
       "      <th>rating</th>\n",
       "      <th>genre</th>\n",
       "      <th>score</th>\n",
       "      <th>votes</th>\n",
       "      <th>director</th>\n",
       "      <th>writer</th>\n",
       "      <th>star</th>\n",
       "      <th>country</th>\n",
       "      <th>budget</th>\n",
       "      <th>gross</th>\n",
       "      <th>company</th>\n",
       "      <th>runtime</th>\n",
       "      <th>release_year</th>\n",
       "    </tr>\n",
       "  </thead>\n",
       "  <tbody>\n",
       "    <tr>\n",
       "      <th>0</th>\n",
       "      <td>The Shining</td>\n",
       "      <td>R</td>\n",
       "      <td>Drama</td>\n",
       "      <td>8.4</td>\n",
       "      <td>927000</td>\n",
       "      <td>Stanley Kubrick</td>\n",
       "      <td>Stephen King</td>\n",
       "      <td>Jack Nicholson</td>\n",
       "      <td>United Kingdom</td>\n",
       "      <td>19000000</td>\n",
       "      <td>46998772</td>\n",
       "      <td>Warner Bros.</td>\n",
       "      <td>146</td>\n",
       "      <td>1980</td>\n",
       "    </tr>\n",
       "    <tr>\n",
       "      <th>1</th>\n",
       "      <td>The Blue Lagoon</td>\n",
       "      <td>R</td>\n",
       "      <td>Adventure</td>\n",
       "      <td>5.8</td>\n",
       "      <td>65000</td>\n",
       "      <td>Randal Kleiser</td>\n",
       "      <td>Henry De Vere Stacpoole</td>\n",
       "      <td>Brooke Shields</td>\n",
       "      <td>United States</td>\n",
       "      <td>4500000</td>\n",
       "      <td>58853106</td>\n",
       "      <td>Columbia Pictures</td>\n",
       "      <td>104</td>\n",
       "      <td>1980</td>\n",
       "    </tr>\n",
       "    <tr>\n",
       "      <th>2</th>\n",
       "      <td>Star Wars: Episode V - The Empire Strikes Back</td>\n",
       "      <td>PG</td>\n",
       "      <td>Action</td>\n",
       "      <td>8.7</td>\n",
       "      <td>1200000</td>\n",
       "      <td>Irvin Kershner</td>\n",
       "      <td>Leigh Brackett</td>\n",
       "      <td>Mark Hamill</td>\n",
       "      <td>United States</td>\n",
       "      <td>18000000</td>\n",
       "      <td>538375067</td>\n",
       "      <td>Lucasfilm</td>\n",
       "      <td>124</td>\n",
       "      <td>1980</td>\n",
       "    </tr>\n",
       "    <tr>\n",
       "      <th>3</th>\n",
       "      <td>Airplane!</td>\n",
       "      <td>PG</td>\n",
       "      <td>Comedy</td>\n",
       "      <td>7.7</td>\n",
       "      <td>221000</td>\n",
       "      <td>Jim Abrahams</td>\n",
       "      <td>Jim Abrahams</td>\n",
       "      <td>Robert Hays</td>\n",
       "      <td>United States</td>\n",
       "      <td>3500000</td>\n",
       "      <td>83453539</td>\n",
       "      <td>Paramount Pictures</td>\n",
       "      <td>88</td>\n",
       "      <td>1980</td>\n",
       "    </tr>\n",
       "    <tr>\n",
       "      <th>4</th>\n",
       "      <td>Caddyshack</td>\n",
       "      <td>R</td>\n",
       "      <td>Comedy</td>\n",
       "      <td>7.3</td>\n",
       "      <td>108000</td>\n",
       "      <td>Harold Ramis</td>\n",
       "      <td>Brian Doyle-Murray</td>\n",
       "      <td>Chevy Chase</td>\n",
       "      <td>United States</td>\n",
       "      <td>6000000</td>\n",
       "      <td>39846344</td>\n",
       "      <td>Orion Pictures</td>\n",
       "      <td>98</td>\n",
       "      <td>1980</td>\n",
       "    </tr>\n",
       "  </tbody>\n",
       "</table>\n",
       "</div>"
      ],
      "text/plain": [
       "                                             name rating      genre  score  \\\n",
       "0                                     The Shining      R      Drama    8.4   \n",
       "1                                 The Blue Lagoon      R  Adventure    5.8   \n",
       "2  Star Wars: Episode V - The Empire Strikes Back     PG     Action    8.7   \n",
       "3                                       Airplane!     PG     Comedy    7.7   \n",
       "4                                      Caddyshack      R     Comedy    7.3   \n",
       "\n",
       "     votes         director                   writer            star  \\\n",
       "0   927000  Stanley Kubrick             Stephen King  Jack Nicholson   \n",
       "1    65000   Randal Kleiser  Henry De Vere Stacpoole  Brooke Shields   \n",
       "2  1200000   Irvin Kershner           Leigh Brackett     Mark Hamill   \n",
       "3   221000     Jim Abrahams             Jim Abrahams     Robert Hays   \n",
       "4   108000     Harold Ramis       Brian Doyle-Murray     Chevy Chase   \n",
       "\n",
       "          country    budget      gross             company  runtime  \\\n",
       "0  United Kingdom  19000000   46998772        Warner Bros.      146   \n",
       "1   United States   4500000   58853106   Columbia Pictures      104   \n",
       "2   United States  18000000  538375067           Lucasfilm      124   \n",
       "3   United States   3500000   83453539  Paramount Pictures       88   \n",
       "4   United States   6000000   39846344      Orion Pictures       98   \n",
       "\n",
       "   release_year  \n",
       "0          1980  \n",
       "1          1980  \n",
       "2          1980  \n",
       "3          1980  \n",
       "4          1980  "
      ]
     },
     "execution_count": 9,
     "metadata": {},
     "output_type": "execute_result"
    }
   ],
   "source": [
    "df.drop(columns=['year','released'], inplace=True)\n",
    "df.head()"
   ]
  },
  {
   "cell_type": "markdown",
   "id": "d1c4b654",
   "metadata": {},
   "source": [
    "_Sort values from the highest 'gross' (revenue generated) to the lowest..._"
   ]
  },
  {
   "cell_type": "code",
   "execution_count": 81,
   "id": "85a3ce2d",
   "metadata": {},
   "outputs": [
    {
     "data": {
      "text/html": [
       "<div>\n",
       "<style scoped>\n",
       "    .dataframe tbody tr th:only-of-type {\n",
       "        vertical-align: middle;\n",
       "    }\n",
       "\n",
       "    .dataframe tbody tr th {\n",
       "        vertical-align: top;\n",
       "    }\n",
       "\n",
       "    .dataframe thead th {\n",
       "        text-align: right;\n",
       "    }\n",
       "</style>\n",
       "<table border=\"1\" class=\"dataframe\">\n",
       "  <thead>\n",
       "    <tr style=\"text-align: right;\">\n",
       "      <th></th>\n",
       "      <th>name</th>\n",
       "      <th>rating</th>\n",
       "      <th>genre</th>\n",
       "      <th>release_year</th>\n",
       "      <th>score</th>\n",
       "      <th>votes</th>\n",
       "      <th>budget</th>\n",
       "      <th>gross</th>\n",
       "      <th>runtime</th>\n",
       "      <th>director</th>\n",
       "      <th>writer</th>\n",
       "      <th>star</th>\n",
       "      <th>country</th>\n",
       "      <th>company</th>\n",
       "    </tr>\n",
       "  </thead>\n",
       "  <tbody>\n",
       "    <tr>\n",
       "      <th>5445</th>\n",
       "      <td>Avatar</td>\n",
       "      <td>PG-13</td>\n",
       "      <td>Action</td>\n",
       "      <td>2009</td>\n",
       "      <td>7.8</td>\n",
       "      <td>1100000</td>\n",
       "      <td>237000000</td>\n",
       "      <td>2847246203</td>\n",
       "      <td>162</td>\n",
       "      <td>James Cameron</td>\n",
       "      <td>James Cameron</td>\n",
       "      <td>Sam Worthington</td>\n",
       "      <td>United States</td>\n",
       "      <td>Twentieth Century Fox</td>\n",
       "    </tr>\n",
       "    <tr>\n",
       "      <th>7445</th>\n",
       "      <td>Avengers: Endgame</td>\n",
       "      <td>PG-13</td>\n",
       "      <td>Action</td>\n",
       "      <td>2019</td>\n",
       "      <td>8.4</td>\n",
       "      <td>903000</td>\n",
       "      <td>356000000</td>\n",
       "      <td>2797501328</td>\n",
       "      <td>181</td>\n",
       "      <td>Anthony Russo</td>\n",
       "      <td>Christopher Markus</td>\n",
       "      <td>Robert Downey Jr.</td>\n",
       "      <td>United States</td>\n",
       "      <td>Marvel Studios</td>\n",
       "    </tr>\n",
       "    <tr>\n",
       "      <th>3045</th>\n",
       "      <td>Titanic</td>\n",
       "      <td>PG-13</td>\n",
       "      <td>Drama</td>\n",
       "      <td>1997</td>\n",
       "      <td>7.8</td>\n",
       "      <td>1100000</td>\n",
       "      <td>200000000</td>\n",
       "      <td>2201647264</td>\n",
       "      <td>194</td>\n",
       "      <td>James Cameron</td>\n",
       "      <td>James Cameron</td>\n",
       "      <td>Leonardo DiCaprio</td>\n",
       "      <td>United States</td>\n",
       "      <td>Twentieth Century Fox</td>\n",
       "    </tr>\n",
       "    <tr>\n",
       "      <th>6663</th>\n",
       "      <td>Star Wars: Episode VII - The Force Awakens</td>\n",
       "      <td>PG-13</td>\n",
       "      <td>Action</td>\n",
       "      <td>2015</td>\n",
       "      <td>7.8</td>\n",
       "      <td>876000</td>\n",
       "      <td>245000000</td>\n",
       "      <td>2069521700</td>\n",
       "      <td>138</td>\n",
       "      <td>J.J. Abrams</td>\n",
       "      <td>Lawrence Kasdan</td>\n",
       "      <td>Daisy Ridley</td>\n",
       "      <td>United States</td>\n",
       "      <td>Lucasfilm</td>\n",
       "    </tr>\n",
       "    <tr>\n",
       "      <th>7244</th>\n",
       "      <td>Avengers: Infinity War</td>\n",
       "      <td>PG-13</td>\n",
       "      <td>Action</td>\n",
       "      <td>2018</td>\n",
       "      <td>8.4</td>\n",
       "      <td>897000</td>\n",
       "      <td>321000000</td>\n",
       "      <td>2048359754</td>\n",
       "      <td>149</td>\n",
       "      <td>Anthony Russo</td>\n",
       "      <td>Christopher Markus</td>\n",
       "      <td>Robert Downey Jr.</td>\n",
       "      <td>United States</td>\n",
       "      <td>Marvel Studios</td>\n",
       "    </tr>\n",
       "  </tbody>\n",
       "</table>\n",
       "</div>"
      ],
      "text/plain": [
       "                                            name rating   genre  release_year  \\\n",
       "5445                                      Avatar  PG-13  Action          2009   \n",
       "7445                           Avengers: Endgame  PG-13  Action          2019   \n",
       "3045                                     Titanic  PG-13   Drama          1997   \n",
       "6663  Star Wars: Episode VII - The Force Awakens  PG-13  Action          2015   \n",
       "7244                      Avengers: Infinity War  PG-13  Action          2018   \n",
       "\n",
       "      score    votes     budget       gross  runtime       director  \\\n",
       "5445    7.8  1100000  237000000  2847246203      162  James Cameron   \n",
       "7445    8.4   903000  356000000  2797501328      181  Anthony Russo   \n",
       "3045    7.8  1100000  200000000  2201647264      194  James Cameron   \n",
       "6663    7.8   876000  245000000  2069521700      138    J.J. Abrams   \n",
       "7244    8.4   897000  321000000  2048359754      149  Anthony Russo   \n",
       "\n",
       "                  writer               star        country  \\\n",
       "5445       James Cameron    Sam Worthington  United States   \n",
       "7445  Christopher Markus  Robert Downey Jr.  United States   \n",
       "3045       James Cameron  Leonardo DiCaprio  United States   \n",
       "6663     Lawrence Kasdan       Daisy Ridley  United States   \n",
       "7244  Christopher Markus  Robert Downey Jr.  United States   \n",
       "\n",
       "                    company  \n",
       "5445  Twentieth Century Fox  \n",
       "7445         Marvel Studios  \n",
       "3045  Twentieth Century Fox  \n",
       "6663              Lucasfilm  \n",
       "7244         Marvel Studios  "
      ]
     },
     "execution_count": 81,
     "metadata": {},
     "output_type": "execute_result"
    }
   ],
   "source": [
    "df = df.sort_values(by='gross', ascending=False)\n",
    "df = df.reindex(columns=['name', 'rating', 'genre','release_year','score', 'votes','budget', \n",
    "                         'gross','runtime','director', 'writer', 'star', 'country', 'company'])\n",
    "df.head()"
   ]
  },
  {
   "cell_type": "markdown",
   "id": "17a50ad6",
   "metadata": {},
   "source": [
    "# Exploration"
   ]
  },
  {
   "cell_type": "markdown",
   "id": "bc6a0152",
   "metadata": {},
   "source": [
    "### Finding correlations in the Data"
   ]
  },
  {
   "cell_type": "markdown",
   "id": "dd70955c",
   "metadata": {},
   "source": [
    "_Checking for variables/features correlated with gross (revenues generated)..._"
   ]
  },
  {
   "cell_type": "markdown",
   "id": "59844c42",
   "metadata": {},
   "source": [
    "Gross vs Budget"
   ]
  },
  {
   "cell_type": "code",
   "execution_count": 98,
   "id": "fdd4af31",
   "metadata": {},
   "outputs": [
    {
     "data": {
      "image/png": "[encoded data removed]",
      "text/plain": [
       "<Figure size 864x576 with 1 Axes>"
      ]
     },
     "metadata": {
      "needs_background": "light"
     },
     "output_type": "display_data"
    }
   ],
   "source": [
    "sns.regplot(x=df.budget, y=df.gross, scatter_kws={\"color\":\"blue\"}, line_kws={\"color\":\"red\"})\n",
    "plt.title(\"Scatter plot of Gross Earnings vs Budget\")\n",
    "plt.xlabel(\"Movie Budget\")\n",
    "plt.ylabel(\"Gross Earnings\");"
   ]
  },
  {
   "cell_type": "markdown",
   "id": "d4583a37",
   "metadata": {},
   "source": [
    "They appear to be highly correlated (positively) with other. This indicates that the higher the movie budget, the higher the expected gross earnings.\n",
    "\n",
    "_Checking for other correlations..._"
   ]
  },
  {
   "cell_type": "code",
   "execution_count": 11,
   "id": "8fa0472e",
   "metadata": {},
   "outputs": [
    {
     "data": {
      "text/html": [
       "<div>\n",
       "<style scoped>\n",
       "    .dataframe tbody tr th:only-of-type {\n",
       "        vertical-align: middle;\n",
       "    }\n",
       "\n",
       "    .dataframe tbody tr th {\n",
       "        vertical-align: top;\n",
       "    }\n",
       "\n",
       "    .dataframe thead th {\n",
       "        text-align: right;\n",
       "    }\n",
       "</style>\n",
       "<table border=\"1\" class=\"dataframe\">\n",
       "  <thead>\n",
       "    <tr style=\"text-align: right;\">\n",
       "      <th></th>\n",
       "      <th>score</th>\n",
       "      <th>votes</th>\n",
       "      <th>budget</th>\n",
       "      <th>gross</th>\n",
       "      <th>runtime</th>\n",
       "    </tr>\n",
       "  </thead>\n",
       "  <tbody>\n",
       "    <tr>\n",
       "      <th>score</th>\n",
       "      <td>1.000000</td>\n",
       "      <td>0.474256</td>\n",
       "      <td>0.072001</td>\n",
       "      <td>0.222556</td>\n",
       "      <td>0.414068</td>\n",
       "    </tr>\n",
       "    <tr>\n",
       "      <th>votes</th>\n",
       "      <td>0.474256</td>\n",
       "      <td>1.000000</td>\n",
       "      <td>0.439675</td>\n",
       "      <td>0.614751</td>\n",
       "      <td>0.352303</td>\n",
       "    </tr>\n",
       "    <tr>\n",
       "      <th>budget</th>\n",
       "      <td>0.072001</td>\n",
       "      <td>0.439675</td>\n",
       "      <td>1.000000</td>\n",
       "      <td>0.740247</td>\n",
       "      <td>0.318695</td>\n",
       "    </tr>\n",
       "    <tr>\n",
       "      <th>gross</th>\n",
       "      <td>0.222556</td>\n",
       "      <td>0.614751</td>\n",
       "      <td>0.740247</td>\n",
       "      <td>1.000000</td>\n",
       "      <td>0.275796</td>\n",
       "    </tr>\n",
       "    <tr>\n",
       "      <th>runtime</th>\n",
       "      <td>0.414068</td>\n",
       "      <td>0.352303</td>\n",
       "      <td>0.318695</td>\n",
       "      <td>0.275796</td>\n",
       "      <td>1.000000</td>\n",
       "    </tr>\n",
       "  </tbody>\n",
       "</table>\n",
       "</div>"
      ],
      "text/plain": [
       "            score     votes    budget     gross   runtime\n",
       "score    1.000000  0.474256  0.072001  0.222556  0.414068\n",
       "votes    0.474256  1.000000  0.439675  0.614751  0.352303\n",
       "budget   0.072001  0.439675  1.000000  0.740247  0.318695\n",
       "gross    0.222556  0.614751  0.740247  1.000000  0.275796\n",
       "runtime  0.414068  0.352303  0.318695  0.275796  1.000000"
      ]
     },
     "execution_count": 11,
     "metadata": {},
     "output_type": "execute_result"
    }
   ],
   "source": [
    "df.drop(columns=['release_year']).corr()"
   ]
  },
  {
   "cell_type": "markdown",
   "id": "284df4ba",
   "metadata": {},
   "source": [
    "_Visualizing the correlation matrix above..._"
   ]
  },
  {
   "cell_type": "code",
   "execution_count": 13,
   "id": "4e68f032",
   "metadata": {},
   "outputs": [
    {
     "data": {
      "image/png": "[encoded data removed]",
      "text/plain": [
       "<Figure size 864x576 with 2 Axes>"
      ]
     },
     "metadata": {
      "needs_background": "light"
     },
     "output_type": "display_data"
    }
   ],
   "source": [
    "corr = df.drop(columns=['release_year']).corr(method='pearson')\n",
    "sns.heatmap(corr, annot=True, fmt=\".2f\", cmap='BrBG')\n",
    "plt.title(\"Correlation Matrix for Numeric Features\")\n",
    "plt.show()"
   ]
  },
  {
   "cell_type": "markdown",
   "id": "5b2d85d5",
   "metadata": {},
   "source": [
    "**Observation:** 'budget' and 'votes' are both positively correlated with 'gross'. This implies that both movie budgets and user ratings are good predictors of a movie's gross revenue."
   ]
  },
  {
   "cell_type": "markdown",
   "id": "a9ffdb95",
   "metadata": {},
   "source": [
    "### Checking Relationship between Gross Earnings and Production Company"
   ]
  },
  {
   "cell_type": "code",
   "execution_count": 25,
   "id": "985c3161",
   "metadata": {},
   "outputs": [
    {
     "data": {
      "text/html": [
       "<div>\n",
       "<style scoped>\n",
       "    .dataframe tbody tr th:only-of-type {\n",
       "        vertical-align: middle;\n",
       "    }\n",
       "\n",
       "    .dataframe tbody tr th {\n",
       "        vertical-align: top;\n",
       "    }\n",
       "\n",
       "    .dataframe thead th {\n",
       "        text-align: right;\n",
       "    }\n",
       "</style>\n",
       "<table border=\"1\" class=\"dataframe\">\n",
       "  <thead>\n",
       "    <tr style=\"text-align: right;\">\n",
       "      <th></th>\n",
       "      <th>total gross earnings</th>\n",
       "    </tr>\n",
       "    <tr>\n",
       "      <th>company</th>\n",
       "      <th></th>\n",
       "    </tr>\n",
       "  </thead>\n",
       "  <tbody>\n",
       "    <tr>\n",
       "      <th>Warner Bros.</th>\n",
       "      <td>54610959970</td>\n",
       "    </tr>\n",
       "    <tr>\n",
       "      <th>Universal Pictures</th>\n",
       "      <td>51241105418</td>\n",
       "    </tr>\n",
       "    <tr>\n",
       "      <th>Columbia Pictures</th>\n",
       "      <td>42356430218</td>\n",
       "    </tr>\n",
       "    <tr>\n",
       "      <th>Paramount Pictures</th>\n",
       "      <td>40021704691</td>\n",
       "    </tr>\n",
       "    <tr>\n",
       "      <th>Twentieth Century Fox</th>\n",
       "      <td>39542573303</td>\n",
       "    </tr>\n",
       "  </tbody>\n",
       "</table>\n",
       "</div>"
      ],
      "text/plain": [
       "                       total gross earnings\n",
       "company                                    \n",
       "Warner Bros.                    54610959970\n",
       "Universal Pictures              51241105418\n",
       "Columbia Pictures               42356430218\n",
       "Paramount Pictures              40021704691\n",
       "Twentieth Century Fox           39542573303"
      ]
     },
     "execution_count": 25,
     "metadata": {},
     "output_type": "execute_result"
    }
   ],
   "source": [
    "comp_gross = (df.gross\n",
    "              .groupby(df.company)\n",
    "              .sum()\n",
    "              .sort_values(ascending=False)\n",
    "              .rename(\"total gross earnings\")\n",
    "              .to_frame()\n",
    "             )\n",
    "comp_gross.head()"
   ]
  },
  {
   "cell_type": "markdown",
   "id": "df78aaaf",
   "metadata": {},
   "source": [
    "Visualizing the result..."
   ]
  },
  {
   "cell_type": "code",
   "execution_count": 40,
   "id": "32e38d49",
   "metadata": {
    "scrolled": false
   },
   "outputs": [
    {
     "data": {
      "image/png": "[encoded data removed]",
      "text/plain": [
       "<Figure size 864x576 with 1 Axes>"
      ]
     },
     "metadata": {
      "needs_background": "light"
     },
     "output_type": "display_data"
    }
   ],
   "source": [
    "data = comp_gross.head(15)\n",
    "sns.barplot(x=\"total gross earnings\", \n",
    "            y=data.index, \n",
    "            data=data\n",
    "            )\n",
    "plt.title('Top 15 Earning Companies')\n",
    "plt.xlabel(\"Total Gross Earnings [$'0,000,000,000]\")\n",
    "plt.ylabel('Production Company');"
   ]
  },
  {
   "cell_type": "markdown",
   "id": "7f385f8f",
   "metadata": {},
   "source": [
    "### Checking Relationship between Gross Earnings and Country of Production "
   ]
  },
  {
   "cell_type": "code",
   "execution_count": 42,
   "id": "8f4c99b2",
   "metadata": {
    "scrolled": true
   },
   "outputs": [
    {
     "data": {
      "text/html": [
       "<div>\n",
       "<style scoped>\n",
       "    .dataframe tbody tr th:only-of-type {\n",
       "        vertical-align: middle;\n",
       "    }\n",
       "\n",
       "    .dataframe tbody tr th {\n",
       "        vertical-align: top;\n",
       "    }\n",
       "\n",
       "    .dataframe thead th {\n",
       "        text-align: right;\n",
       "    }\n",
       "</style>\n",
       "<table border=\"1\" class=\"dataframe\">\n",
       "  <thead>\n",
       "    <tr style=\"text-align: right;\">\n",
       "      <th></th>\n",
       "      <th>total gross earnings</th>\n",
       "    </tr>\n",
       "    <tr>\n",
       "      <th>country</th>\n",
       "      <th></th>\n",
       "    </tr>\n",
       "  </thead>\n",
       "  <tbody>\n",
       "    <tr>\n",
       "      <th>United States</th>\n",
       "      <td>470794726099</td>\n",
       "    </tr>\n",
       "    <tr>\n",
       "      <th>United Kingdom</th>\n",
       "      <td>45351705966</td>\n",
       "    </tr>\n",
       "    <tr>\n",
       "      <th>France</th>\n",
       "      <td>6568533115</td>\n",
       "    </tr>\n",
       "    <tr>\n",
       "      <th>China</th>\n",
       "      <td>6305918953</td>\n",
       "    </tr>\n",
       "    <tr>\n",
       "      <th>New Zealand</th>\n",
       "      <td>6278354563</td>\n",
       "    </tr>\n",
       "  </tbody>\n",
       "</table>\n",
       "</div>"
      ],
      "text/plain": [
       "                total gross earnings\n",
       "country                             \n",
       "United States           470794726099\n",
       "United Kingdom           45351705966\n",
       "France                    6568533115\n",
       "China                     6305918953\n",
       "New Zealand               6278354563"
      ]
     },
     "execution_count": 42,
     "metadata": {},
     "output_type": "execute_result"
    }
   ],
   "source": [
    "coun_gross = (df.gross\n",
    "              .groupby(df.country)\n",
    "              .sum()\n",
    "              .sort_values(ascending=False)\n",
    "              .rename(\"total gross earnings\")\n",
    "              .to_frame()\n",
    "             )\n",
    "coun_gross.head()"
   ]
  },
  {
   "cell_type": "markdown",
   "id": "6d8f2fd3",
   "metadata": {},
   "source": [
    "Visualizing the result..."
   ]
  },
  {
   "cell_type": "code",
   "execution_count": 43,
   "id": "9c13af6e",
   "metadata": {},
   "outputs": [
    {
     "data": {
      "image/png": "[encoded data removed]",
      "text/plain": [
       "<Figure size 864x576 with 1 Axes>"
      ]
     },
     "metadata": {
      "needs_background": "light"
     },
     "output_type": "display_data"
    }
   ],
   "source": [
    "data = coun_gross.head(10)\n",
    "sns.barplot(x=\"total gross earnings\", \n",
    "            y=data.index, \n",
    "            data=data\n",
    "           )\n",
    "plt.title('Top 10 Movie Revenue by Countries of Origin')\n",
    "plt.xlabel(\"Total Gross Earnings [$'00,000,000,000]\")\n",
    "plt.ylabel('Country of Origin');"
   ]
  },
  {
   "cell_type": "markdown",
   "id": "2e2e6aa1",
   "metadata": {},
   "source": [
    "### Checking Relationship between Gross Earnings and Movie Genre\n"
   ]
  },
  {
   "cell_type": "code",
   "execution_count": 26,
   "id": "abb61b0f",
   "metadata": {
    "scrolled": true
   },
   "outputs": [
    {
     "data": {
      "text/html": [
       "<div>\n",
       "<style scoped>\n",
       "    .dataframe tbody tr th:only-of-type {\n",
       "        vertical-align: middle;\n",
       "    }\n",
       "\n",
       "    .dataframe tbody tr th {\n",
       "        vertical-align: top;\n",
       "    }\n",
       "\n",
       "    .dataframe thead th {\n",
       "        text-align: right;\n",
       "    }\n",
       "</style>\n",
       "<table border=\"1\" class=\"dataframe\">\n",
       "  <thead>\n",
       "    <tr style=\"text-align: right;\">\n",
       "      <th></th>\n",
       "      <th>total gross earnings</th>\n",
       "    </tr>\n",
       "    <tr>\n",
       "      <th>genre</th>\n",
       "      <th></th>\n",
       "    </tr>\n",
       "  </thead>\n",
       "  <tbody>\n",
       "    <tr>\n",
       "      <th>Action</th>\n",
       "      <td>237752868767</td>\n",
       "    </tr>\n",
       "    <tr>\n",
       "      <th>Comedy</th>\n",
       "      <td>88514817620</td>\n",
       "    </tr>\n",
       "    <tr>\n",
       "      <th>Animation</th>\n",
       "      <td>77865909110</td>\n",
       "    </tr>\n",
       "    <tr>\n",
       "      <th>Drama</th>\n",
       "      <td>52098564769</td>\n",
       "    </tr>\n",
       "    <tr>\n",
       "      <th>Adventure</th>\n",
       "      <td>43578711908</td>\n",
       "    </tr>\n",
       "  </tbody>\n",
       "</table>\n",
       "</div>"
      ],
      "text/plain": [
       "           total gross earnings\n",
       "genre                          \n",
       "Action             237752868767\n",
       "Comedy              88514817620\n",
       "Animation           77865909110\n",
       "Drama               52098564769\n",
       "Adventure           43578711908"
      ]
     },
     "execution_count": 26,
     "metadata": {},
     "output_type": "execute_result"
    }
   ],
   "source": [
    "genre_gross = (df.gross\n",
    "               .groupby(df.genre)\n",
    "               .sum().sort_values(ascending=False)\n",
    "               .rename(\"total gross earnings\")\n",
    "               .to_frame()\n",
    "              )\n",
    "genre_gross.head()"
   ]
  },
  {
   "cell_type": "markdown",
   "id": "a5f889eb",
   "metadata": {},
   "source": [
    "Visualizing the result..."
   ]
  },
  {
   "cell_type": "code",
   "execution_count": 44,
   "id": "cf6f38dc",
   "metadata": {
    "scrolled": false
   },
   "outputs": [
    {
     "data": {
      "image/png": "[encoded data removed]",
      "text/plain": [
       "<Figure size 864x576 with 1 Axes>"
      ]
     },
     "metadata": {
      "needs_background": "light"
     },
     "output_type": "display_data"
    }
   ],
   "source": [
    "data = genre_gross\n",
    "sns.barplot(x=\"total gross earnings\", \n",
    "            y=data.index, \n",
    "            data=data)\n",
    "plt.title('Top Earning Movies Genre')\n",
    "plt.xlabel(\"Mean Gross Earnings [$'00,000,000,000]\")\n",
    "plt.ylabel('Movie Genre');"
   ]
  },
  {
   "cell_type": "markdown",
   "id": "32315b64",
   "metadata": {},
   "source": [
    "### Checking Relationship between Gross Earnings and Movie Rating\n"
   ]
  },
  {
   "cell_type": "code",
   "execution_count": 83,
   "id": "0f5b5a22",
   "metadata": {},
   "outputs": [
    {
     "data": {
      "text/plain": [
       "array(['PG-13', 'PG', 'G', 'R', 'TV-MA', 'Not Rated', 'NC-17', 'Approved',\n",
       "       'X', 'Unrated'], dtype=object)"
      ]
     },
     "execution_count": 83,
     "metadata": {},
     "output_type": "execute_result"
    }
   ],
   "source": [
    "df.rating.unique() # To check the unique values"
   ]
  },
  {
   "cell_type": "code",
   "execution_count": 84,
   "id": "8d25e761",
   "metadata": {},
   "outputs": [
    {
     "data": {
      "text/plain": [
       "array(['PG-13', 'PG', 'G', 'R', 'TV-MA', 'Unrated', 'NC-17', 'X'],\n",
       "      dtype=object)"
      ]
     },
     "execution_count": 84,
     "metadata": {},
     "output_type": "execute_result"
    }
   ],
   "source": [
    "# Clean up values\n",
    "df.rating = (df.rating\n",
    "             .replace(\n",
    "                 ['Approved','Not Rated'],\n",
    "                 'Unrated'\n",
    "                    )\n",
    "            )\n",
    "df.rating.unique()"
   ]
  },
  {
   "cell_type": "code",
   "execution_count": 85,
   "id": "878dd779",
   "metadata": {
    "scrolled": true
   },
   "outputs": [
    {
     "data": {
      "text/html": [
       "<div>\n",
       "<style scoped>\n",
       "    .dataframe tbody tr th:only-of-type {\n",
       "        vertical-align: middle;\n",
       "    }\n",
       "\n",
       "    .dataframe tbody tr th {\n",
       "        vertical-align: top;\n",
       "    }\n",
       "\n",
       "    .dataframe thead th {\n",
       "        text-align: right;\n",
       "    }\n",
       "</style>\n",
       "<table border=\"1\" class=\"dataframe\">\n",
       "  <thead>\n",
       "    <tr style=\"text-align: right;\">\n",
       "      <th></th>\n",
       "      <th>total gross earnings</th>\n",
       "    </tr>\n",
       "    <tr>\n",
       "      <th>rating</th>\n",
       "      <th></th>\n",
       "    </tr>\n",
       "  </thead>\n",
       "  <tbody>\n",
       "    <tr>\n",
       "      <th>PG-13</th>\n",
       "      <td>266542294450</td>\n",
       "    </tr>\n",
       "    <tr>\n",
       "      <th>R</th>\n",
       "      <td>145199814244</td>\n",
       "    </tr>\n",
       "    <tr>\n",
       "      <th>PG</th>\n",
       "      <td>124929793534</td>\n",
       "    </tr>\n",
       "    <tr>\n",
       "      <th>G</th>\n",
       "      <td>21006223173</td>\n",
       "    </tr>\n",
       "    <tr>\n",
       "      <th>Unrated</th>\n",
       "      <td>1021248601</td>\n",
       "    </tr>\n",
       "    <tr>\n",
       "      <th>TV-MA</th>\n",
       "      <td>700083289</td>\n",
       "    </tr>\n",
       "    <tr>\n",
       "      <th>NC-17</th>\n",
       "      <td>191307081</td>\n",
       "    </tr>\n",
       "    <tr>\n",
       "      <th>X</th>\n",
       "      <td>17186348</td>\n",
       "    </tr>\n",
       "  </tbody>\n",
       "</table>\n",
       "</div>"
      ],
      "text/plain": [
       "         total gross earnings\n",
       "rating                       \n",
       "PG-13            266542294450\n",
       "R                145199814244\n",
       "PG               124929793534\n",
       "G                 21006223173\n",
       "Unrated            1021248601\n",
       "TV-MA               700083289\n",
       "NC-17               191307081\n",
       "X                    17186348"
      ]
     },
     "execution_count": 85,
     "metadata": {},
     "output_type": "execute_result"
    }
   ],
   "source": [
    "rating_gross = (df.gross\n",
    "                .groupby(df.rating)\n",
    "                .sum()\n",
    "                .sort_values(ascending=False)\n",
    "                .rename(\"total gross earnings\")\n",
    "                .to_frame()\n",
    "               )\n",
    "rating_gross"
   ]
  },
  {
   "cell_type": "markdown",
   "id": "4bf1b22c",
   "metadata": {},
   "source": [
    "Visualizing the result..."
   ]
  },
  {
   "cell_type": "code",
   "execution_count": 86,
   "id": "a422b7c4",
   "metadata": {},
   "outputs": [
    {
     "data": {
      "image/png": "[encoded data removed]",
      "text/plain": [
       "<Figure size 864x576 with 1 Axes>"
      ]
     },
     "metadata": {
      "needs_background": "light"
     },
     "output_type": "display_data"
    }
   ],
   "source": [
    "data = rating_gross\n",
    "sns.barplot(x=\"total gross earnings\", y=data.index, data=data)\n",
    "plt.title('Top Earning Movie Rating')\n",
    "plt.xlabel(\"Total Gross Earnings [$'00,000,000]\")\n",
    "plt.ylabel('Movie Rating');"
   ]
  },
  {
   "cell_type": "markdown",
   "id": "96bee2cf",
   "metadata": {},
   "source": [
    "### Checking Relationship between Gross Earnings and Movie Star"
   ]
  },
  {
   "cell_type": "code",
   "execution_count": 36,
   "id": "a4845989",
   "metadata": {},
   "outputs": [
    {
     "data": {
      "text/html": [
       "<div>\n",
       "<style scoped>\n",
       "    .dataframe tbody tr th:only-of-type {\n",
       "        vertical-align: middle;\n",
       "    }\n",
       "\n",
       "    .dataframe tbody tr th {\n",
       "        vertical-align: top;\n",
       "    }\n",
       "\n",
       "    .dataframe thead th {\n",
       "        text-align: right;\n",
       "    }\n",
       "</style>\n",
       "<table border=\"1\" class=\"dataframe\">\n",
       "  <thead>\n",
       "    <tr style=\"text-align: right;\">\n",
       "      <th></th>\n",
       "      <th>total gross earning</th>\n",
       "    </tr>\n",
       "    <tr>\n",
       "      <th>star</th>\n",
       "      <th></th>\n",
       "    </tr>\n",
       "  </thead>\n",
       "  <tbody>\n",
       "    <tr>\n",
       "      <th>Robert Downey Jr.</th>\n",
       "      <td>11855937746</td>\n",
       "    </tr>\n",
       "    <tr>\n",
       "      <th>Tom Hanks</th>\n",
       "      <td>9899944903</td>\n",
       "    </tr>\n",
       "    <tr>\n",
       "      <th>Tom Cruise</th>\n",
       "      <td>9440309875</td>\n",
       "    </tr>\n",
       "    <tr>\n",
       "      <th>Will Smith</th>\n",
       "      <td>7947279234</td>\n",
       "    </tr>\n",
       "    <tr>\n",
       "      <th>Johnny Depp</th>\n",
       "      <td>7410125354</td>\n",
       "    </tr>\n",
       "    <tr>\n",
       "      <th>Daniel Radcliffe</th>\n",
       "      <td>6971268037</td>\n",
       "    </tr>\n",
       "    <tr>\n",
       "      <th>Leonardo DiCaprio</th>\n",
       "      <td>6963367648</td>\n",
       "    </tr>\n",
       "    <tr>\n",
       "      <th>Vin Diesel</th>\n",
       "      <td>6036312568</td>\n",
       "    </tr>\n",
       "    <tr>\n",
       "      <th>Dwayne Johnson</th>\n",
       "      <td>5711270624</td>\n",
       "    </tr>\n",
       "    <tr>\n",
       "      <th>Bruce Willis</th>\n",
       "      <td>5318951036</td>\n",
       "    </tr>\n",
       "  </tbody>\n",
       "</table>\n",
       "</div>"
      ],
      "text/plain": [
       "                   total gross earning\n",
       "star                                  \n",
       "Robert Downey Jr.          11855937746\n",
       "Tom Hanks                   9899944903\n",
       "Tom Cruise                  9440309875\n",
       "Will Smith                  7947279234\n",
       "Johnny Depp                 7410125354\n",
       "Daniel Radcliffe            6971268037\n",
       "Leonardo DiCaprio           6963367648\n",
       "Vin Diesel                  6036312568\n",
       "Dwayne Johnson              5711270624\n",
       "Bruce Willis                5318951036"
      ]
     },
     "execution_count": 36,
     "metadata": {},
     "output_type": "execute_result"
    }
   ],
   "source": [
    "star_gross = (df.gross\n",
    "              .groupby(df.star)\n",
    "              .sum()\n",
    "              .sort_values(ascending=False)\n",
    "              .rename(\"total gross earning\")\n",
    "              .to_frame()\n",
    "             )\n",
    "star_gross.head(10)"
   ]
  },
  {
   "cell_type": "markdown",
   "id": "8bab9138",
   "metadata": {},
   "source": [
    "_Visualizing the result..._"
   ]
  },
  {
   "cell_type": "code",
   "execution_count": 39,
   "id": "8e5362ba",
   "metadata": {},
   "outputs": [
    {
     "data": {
      "image/png": "[encoded data removed]",
      "text/plain": [
       "<Figure size 864x576 with 1 Axes>"
      ]
     },
     "metadata": {
      "needs_background": "light"
     },
     "output_type": "display_data"
    }
   ],
   "source": [
    "data = star_gross.head(10)\n",
    "sns.barplot(x=\"total gross earning\", \n",
    "            y=data.index, \n",
    "            data=data)\n",
    "plt.title(\"Top 10 Featured Movie Stars Genrating Most Revenue\")\n",
    "plt.xlabel(\"Mean Gross Earnings [$'0,000,000,000]\")\n",
    "plt.ylabel(\"Featured Star\");"
   ]
  },
  {
   "cell_type": "markdown",
   "id": "7e16d730",
   "metadata": {},
   "source": [
    "### Gross Earnings Over the Years"
   ]
  },
  {
   "cell_type": "code",
   "execution_count": 50,
   "id": "b6f37612",
   "metadata": {},
   "outputs": [
    {
     "data": {
      "image/png": "[encoded data removed]",
      "text/plain": [
       "<Figure size 864x576 with 1 Axes>"
      ]
     },
     "metadata": {
      "needs_background": "light"
     },
     "output_type": "display_data"
    }
   ],
   "source": [
    "gross_year = (df.gross\n",
    "              .groupby(df.release_year)\n",
    "              .mean()\n",
    "              .sort_values()\n",
    "              .rename(\"Mean Gross\")\n",
    "              .to_frame()\n",
    "             )\n",
    "data = gross_year\n",
    "sns.lineplot(x=data.index, y=\"Mean Gross\", data=data)\n",
    "plt.title(\"The Movie Industry's Performance over the Years\")\n",
    "plt.xlabel(\"Year\")\n",
    "plt.ylabel(\"Mean Gross Earnings [$'00,000,000]\");"
   ]
  },
  {
   "cell_type": "markdown",
   "id": "55a47118",
   "metadata": {},
   "source": [
    "## Other Findings"
   ]
  },
  {
   "cell_type": "markdown",
   "id": "6cdc2f8a",
   "metadata": {},
   "source": [
    "### Companies of Production with the Highest Movie Budget"
   ]
  },
  {
   "cell_type": "code",
   "execution_count": 52,
   "id": "a5641407",
   "metadata": {},
   "outputs": [
    {
     "data": {
      "image/png": "[encoded data removed]",
      "text/plain": [
       "<Figure size 864x576 with 1 Axes>"
      ]
     },
     "metadata": {
      "needs_background": "light"
     },
     "output_type": "display_data"
    }
   ],
   "source": [
    "comp_budget = (df.budget\n",
    "               .groupby(df.company)\n",
    "               .sum()\n",
    "               .sort_values(ascending=False)\n",
    "               .rename(\"Total Budget\")\n",
    "               .to_frame()\n",
    "              )\n",
    "data = comp_budget.head(15)\n",
    "sns.barplot(x=\"Total Budget\", y=data.index, data=data)\n",
    "plt.title('Top 15 Companies with High Movie Budgets')\n",
    "plt.xlabel(\"Total Budget [$'0,000,000,000]\")\n",
    "plt.ylabel('Production Company');"
   ]
  },
  {
   "cell_type": "markdown",
   "id": "625b9968",
   "metadata": {},
   "source": [
    "### Movie Ratings of All Time"
   ]
  },
  {
   "cell_type": "code",
   "execution_count": 205,
   "id": "38225e36",
   "metadata": {
    "scrolled": true
   },
   "outputs": [
    {
     "data": {
      "text/plain": [
       "count    5.421000e+03\n",
       "mean     1.150661e+05\n",
       "std      1.844073e+05\n",
       "min      1.950000e+02\n",
       "25%      1.900000e+04\n",
       "50%      5.200000e+04\n",
       "75%      1.290000e+05\n",
       "max      2.400000e+06\n",
       "Name: votes, dtype: float64"
      ]
     },
     "execution_count": 205,
     "metadata": {},
     "output_type": "execute_result"
    }
   ],
   "source": [
    "df.votes.describe() # Checking the decriptive statistics of voting"
   ]
  },
  {
   "cell_type": "code",
   "execution_count": 75,
   "id": "a6126587",
   "metadata": {
    "scrolled": true
   },
   "outputs": [
    {
     "data": {
      "text/html": [
       "<div>\n",
       "<style scoped>\n",
       "    .dataframe tbody tr th:only-of-type {\n",
       "        vertical-align: middle;\n",
       "    }\n",
       "\n",
       "    .dataframe tbody tr th {\n",
       "        vertical-align: top;\n",
       "    }\n",
       "\n",
       "    .dataframe thead th {\n",
       "        text-align: right;\n",
       "    }\n",
       "</style>\n",
       "<table border=\"1\" class=\"dataframe\">\n",
       "  <thead>\n",
       "    <tr style=\"text-align: right;\">\n",
       "      <th></th>\n",
       "      <th>name</th>\n",
       "      <th>rating</th>\n",
       "      <th>genre</th>\n",
       "      <th>release_year</th>\n",
       "      <th>score</th>\n",
       "      <th>votes</th>\n",
       "      <th>budget</th>\n",
       "      <th>gross</th>\n",
       "      <th>runtime</th>\n",
       "      <th>director</th>\n",
       "      <th>writer</th>\n",
       "      <th>star</th>\n",
       "      <th>country</th>\n",
       "      <th>company</th>\n",
       "    </tr>\n",
       "  </thead>\n",
       "  <tbody>\n",
       "    <tr>\n",
       "      <th>5445</th>\n",
       "      <td>Avatar</td>\n",
       "      <td>PG-13</td>\n",
       "      <td>Action</td>\n",
       "      <td>2009</td>\n",
       "      <td>7.8</td>\n",
       "      <td>1100000</td>\n",
       "      <td>237000000</td>\n",
       "      <td>2847246203</td>\n",
       "      <td>162</td>\n",
       "      <td>James Cameron</td>\n",
       "      <td>James Cameron</td>\n",
       "      <td>Sam Worthington</td>\n",
       "      <td>United States</td>\n",
       "      <td>Twentieth Century Fox</td>\n",
       "    </tr>\n",
       "    <tr>\n",
       "      <th>7445</th>\n",
       "      <td>Avengers: Endgame</td>\n",
       "      <td>PG-13</td>\n",
       "      <td>Action</td>\n",
       "      <td>2019</td>\n",
       "      <td>8.4</td>\n",
       "      <td>903000</td>\n",
       "      <td>356000000</td>\n",
       "      <td>2797501328</td>\n",
       "      <td>181</td>\n",
       "      <td>Anthony Russo</td>\n",
       "      <td>Christopher Markus</td>\n",
       "      <td>Robert Downey Jr.</td>\n",
       "      <td>United States</td>\n",
       "      <td>Marvel Studios</td>\n",
       "    </tr>\n",
       "    <tr>\n",
       "      <th>3045</th>\n",
       "      <td>Titanic</td>\n",
       "      <td>PG-13</td>\n",
       "      <td>Drama</td>\n",
       "      <td>1997</td>\n",
       "      <td>7.8</td>\n",
       "      <td>1100000</td>\n",
       "      <td>200000000</td>\n",
       "      <td>2201647264</td>\n",
       "      <td>194</td>\n",
       "      <td>James Cameron</td>\n",
       "      <td>James Cameron</td>\n",
       "      <td>Leonardo DiCaprio</td>\n",
       "      <td>United States</td>\n",
       "      <td>Twentieth Century Fox</td>\n",
       "    </tr>\n",
       "    <tr>\n",
       "      <th>6663</th>\n",
       "      <td>Star Wars: Episode VII - The Force Awakens</td>\n",
       "      <td>PG-13</td>\n",
       "      <td>Action</td>\n",
       "      <td>2015</td>\n",
       "      <td>7.8</td>\n",
       "      <td>876000</td>\n",
       "      <td>245000000</td>\n",
       "      <td>2069521700</td>\n",
       "      <td>138</td>\n",
       "      <td>J.J. Abrams</td>\n",
       "      <td>Lawrence Kasdan</td>\n",
       "      <td>Daisy Ridley</td>\n",
       "      <td>United States</td>\n",
       "      <td>Lucasfilm</td>\n",
       "    </tr>\n",
       "    <tr>\n",
       "      <th>7244</th>\n",
       "      <td>Avengers: Infinity War</td>\n",
       "      <td>PG-13</td>\n",
       "      <td>Action</td>\n",
       "      <td>2018</td>\n",
       "      <td>8.4</td>\n",
       "      <td>897000</td>\n",
       "      <td>321000000</td>\n",
       "      <td>2048359754</td>\n",
       "      <td>149</td>\n",
       "      <td>Anthony Russo</td>\n",
       "      <td>Christopher Markus</td>\n",
       "      <td>Robert Downey Jr.</td>\n",
       "      <td>United States</td>\n",
       "      <td>Marvel Studios</td>\n",
       "    </tr>\n",
       "  </tbody>\n",
       "</table>\n",
       "</div>"
      ],
      "text/plain": [
       "                                            name rating   genre  release_year  \\\n",
       "5445                                      Avatar  PG-13  Action          2009   \n",
       "7445                           Avengers: Endgame  PG-13  Action          2019   \n",
       "3045                                     Titanic  PG-13   Drama          1997   \n",
       "6663  Star Wars: Episode VII - The Force Awakens  PG-13  Action          2015   \n",
       "7244                      Avengers: Infinity War  PG-13  Action          2018   \n",
       "\n",
       "      score    votes     budget       gross  runtime       director  \\\n",
       "5445    7.8  1100000  237000000  2847246203      162  James Cameron   \n",
       "7445    8.4   903000  356000000  2797501328      181  Anthony Russo   \n",
       "3045    7.8  1100000  200000000  2201647264      194  James Cameron   \n",
       "6663    7.8   876000  245000000  2069521700      138    J.J. Abrams   \n",
       "7244    8.4   897000  321000000  2048359754      149  Anthony Russo   \n",
       "\n",
       "                  writer               star        country  \\\n",
       "5445       James Cameron    Sam Worthington  United States   \n",
       "7445  Christopher Markus  Robert Downey Jr.  United States   \n",
       "3045       James Cameron  Leonardo DiCaprio  United States   \n",
       "6663     Lawrence Kasdan       Daisy Ridley  United States   \n",
       "7244  Christopher Markus  Robert Downey Jr.  United States   \n",
       "\n",
       "                    company  \n",
       "5445  Twentieth Century Fox  \n",
       "7445         Marvel Studios  \n",
       "3045  Twentieth Century Fox  \n",
       "6663              Lucasfilm  \n",
       "7244         Marvel Studios  "
      ]
     },
     "execution_count": 75,
     "metadata": {},
     "output_type": "execute_result"
    }
   ],
   "source": [
    "df_hv = df[df.votes > 100_000] # Selecting only entries with over 100,000 votes\n",
    "df_hv.head()"
   ]
  },
  {
   "cell_type": "code",
   "execution_count": 76,
   "id": "33031964",
   "metadata": {},
   "outputs": [
    {
     "data": {
      "image/png": "[encoded data removed]",
      "text/plain": [
       "<Figure size 864x576 with 1 Axes>"
      ]
     },
     "metadata": {
      "needs_background": "light"
     },
     "output_type": "display_data"
    }
   ],
   "source": [
    "sns.barplot(x=\"votes\", \n",
    "            y=\"name\", \n",
    "            data=(df_hv\n",
    "                  .sort_values(\"votes\", ascending=False)\n",
    "                  .head(10)\n",
    "                 )\n",
    "           )\n",
    "plt.title(\"Top 10 Most Rated Movies\")\n",
    "plt.xlabel(\"Votes ['000,000]\")\n",
    "plt.ylabel(\"Movie Title\");"
   ]
  },
  {
   "cell_type": "code",
   "execution_count": 77,
   "id": "ce874e8a",
   "metadata": {},
   "outputs": [
    {
     "data": {
      "image/png": "[encoded data removed]",
      "text/plain": [
       "<Figure size 864x576 with 1 Axes>"
      ]
     },
     "metadata": {
      "needs_background": "light"
     },
     "output_type": "display_data"
    }
   ],
   "source": [
    "sns.barplot(x=\"score\", \n",
    "            y=\"name\", \n",
    "            data=(df_hv\n",
    "                  .sort_values(\"score\", ascending=False)\n",
    "                  .head(10)\n",
    "                 )\n",
    "           )\n",
    "plt.title(\"Top 10 Highly Rated Movies\")\n",
    "plt.xlabel(\"User Ratings\")\n",
    "plt.ylabel(\"Movie Title\");"
   ]
  },
  {
   "cell_type": "markdown",
   "id": "09a50fb7",
   "metadata": {},
   "source": [
    "### Top Directors based on Top Rated Movies "
   ]
  },
  {
   "cell_type": "code",
   "execution_count": 78,
   "id": "659b0040",
   "metadata": {},
   "outputs": [
    {
     "data": {
      "image/png": "[encoded data removed]",
      "text/plain": [
       "<Figure size 864x576 with 1 Axes>"
      ]
     },
     "metadata": {
      "needs_background": "light"
     },
     "output_type": "display_data"
    }
   ],
   "source": [
    "hr_dir = (df_hv.score\n",
    "          .groupby(df.director)\n",
    "          .mean()\n",
    "          .sort_values(ascending=False)\n",
    "          .rename(\"User Ratings\")\n",
    "          .to_frame()\n",
    "         )\n",
    "data = hr_dir.head(10)\n",
    "\n",
    "sns.barplot(x=\"User Ratings\", y=data.index, data=data)\n",
    "plt.title(\"Top 10 Highly Rated Directors Based on Top Rated Movies\")\n",
    "plt.xlabel(\"User Ratings\")\n",
    "plt.ylabel(\"Movie Director\");"
   ]
  },
  {
   "cell_type": "markdown",
   "id": "3ef43aba",
   "metadata": {},
   "source": [
    "### Top Writers based on Top Rated Movies "
   ]
  },
  {
   "cell_type": "code",
   "execution_count": 80,
   "id": "51b3e0e0",
   "metadata": {},
   "outputs": [
    {
     "data": {
      "image/png": "[encoded data removed]",
      "text/plain": [
       "<Figure size 864x576 with 1 Axes>"
      ]
     },
     "metadata": {
      "needs_background": "light"
     },
     "output_type": "display_data"
    }
   ],
   "source": [
    "starr = (df_hv.score\n",
    "         .groupby(df.writer)\n",
    "         .mean()\n",
    "         .sort_values(ascending=False)\n",
    "         .rename(\"User Ratings\")\n",
    "         .to_frame()\n",
    "        )\n",
    "data = starr.head(10)\n",
    "\n",
    "sns.barplot(x=\"User Ratings\", y=data.index, data=data)\n",
    "plt.title(\"Top 10 Writers Based on Top Rated Movies\")\n",
    "plt.xlabel(\"User Ratings\")\n",
    "plt.ylabel(\"Writers\");\n"
   ]
  },
  {
   "cell_type": "markdown",
   "id": "9745bad1",
   "metadata": {},
   "source": [
    "Thanks for reading.\n",
    "\n",
    "**Mustapha, M. K.**\n",
    "\n",
    "LinkedIn: [Kola Mustapha](https://www.linkedin.com/in/kola-mustapha-27037856/)\n",
    "\n",
    "Email: mustapha.mk@outlook.com"
   ]
  }
 ],
 "metadata": {
  "kernelspec": {
   "display_name": "Python 3 (ipykernel)",
   "language": "python",
   "name": "python3"
  },
  "language_info": {
   "codemirror_mode": {
    "name": "ipython",
    "version": 3
   },
   "file_extension": ".py",
   "mimetype": "text/x-python",
   "name": "python",
   "nbconvert_exporter": "python",
   "pygments_lexer": "ipython3",
   "version": "3.9.7"
  }
 },
 "nbformat": 4,
 "nbformat_minor": 5
}
